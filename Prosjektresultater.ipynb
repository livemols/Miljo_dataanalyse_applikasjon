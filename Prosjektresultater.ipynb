{
 "cells": [
  {
   "cell_type": "markdown",
   "metadata": {},
   "source": [
    "# Prosjektet\n",
    "\n",
    "### Innholdsfortegnelse:\n",
    "- Intro\n",
    "- Kildekritikk\n",
    "- Gjennomsnitt \n",
    "\n",
    "### Intro:\n",
    "For å få et godt overblikk over klimautviklingen i Norge har vi sett på værdata for ti år fra værstasjonen blindern (SN18700).\n",
    "\n",
    "Dataene våre er fra 1.januar 2014 til 31.desember 2024. \n",
    "\n",
    "\n",
    "### Kildekritikk:\n",
    "Datasettet vårt er basert på data fra en nettside som eies av Norsk klimaservicesenter (KSS). KSS er et samarbeid mellom forskjellige organisasjoner: Meterologisk institutt, Norges vassdrags- og energidirektorat, Kraftverket, NORCE og Bjerknessenteret. Organisasjonene er pålitelige og dataen som er samlet virker realistisk. \n",
    "\n",
    "Deres data er lett tilgjenelig gjennom en side hvor du får tilgang på værdata. Dette er gjennom å velge forskjellige kategorier som tidsoppløsning, værelementer og værstasjon. Dette bidrar til at nettsiden har god brukervenlighet og gjør det lett å kunne krysseksaminere dataene med en annen kilde. \n",
    "\n",
    "Linken til nettsiden er :https://seklima.met.no/observations/\n",
    "Værdataen vi har hentet fra KSS er originalt fra Metreologisk institutt.\n",
    "\n",
    "Vi valgte å samle data fra Blindern værsenter siden de hadde for det meste fullstendig data. \n",
    "\n",
    "\n",
    "### Gjennomsnitt: \n",
    "Vi har brukt datasettet til å regne ut gjennomsnittlige verdier for de forskjellige månedene gjennom \n",
    "\n",
    "\n",
    "\n",
    "\n",
    "\n"
   ]
  }
 ],
 "metadata": {
  "language_info": {
   "name": "python"
  }
 },
 "nbformat": 4,
 "nbformat_minor": 2
}
