{
 "cells": [
  {
   "cell_type": "markdown",
   "metadata": {},
   "source": [
    "# Prosjektet\n",
    "\n",
    "### Innholdsfortegnelse:\n",
    "- Intro\n",
    "- Kildekritikk \n",
    "\n",
    "### Intro:\n",
    "For å få et godt overblikk over klimautviklingen i Norge har vi sett på værdata for ti år fra værstasjonen blindern (SN18700).\n",
    "\n",
    "Dataene våre er fra 1.januar 2014 til 31.desember 2024. \n",
    "\n",
    "\n",
    "### Kildekritikk:\n",
    "Datasettet vårt er basert på data fra Norsk klimaservicesenter (KSS). KSS er et samarbeid mellom forskjellige organisasjoner: Meterologisk institutt, Norges vassdrags- og energidirektorat, Kraftverket, NORCE og Bjerknessenteret. Organisasjonene er pålitelige og dataen som er samlet virker realistisk. \n",
    "\n",
    "Deres data er lett tilgjenelig gjennom en side hvor du får tilgang på værdata. Dette er gjennom å velge forskjellige kategorier som tidsoppløsning, værelementer og værstasjon. Dette bidrar til at nettsiden har god brukervenlighet og gjør det lett å kunne krysseksaminere dataene med en annen kilde. \n",
    "\n",
    "Vi valgte å samle data fra Blindern værsenter siden de hadde fullstendig data. Blindern hadde i motsettning til andre værsenter i Oslo-området fullstendig data for de forskjellige verdiene vi ønsket å se på.\n",
    "\n",
    "\n",
    "\n",
    "\n"
   ]
  }
 ],
 "metadata": {
  "language_info": {
   "name": "python"
  }
 },
 "nbformat": 4,
 "nbformat_minor": 2
}
