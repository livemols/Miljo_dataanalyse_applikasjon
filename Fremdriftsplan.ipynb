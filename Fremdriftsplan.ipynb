{
 "cells": [
  {
   "cell_type": "markdown",
   "metadata": {},
   "source": [
    "# Fremdriftsplan\n",
    "\n",
    "### Innleveringsfrister:\n",
    "- Mappe del 1: 23.mars\n",
    "- Mappe del 2: 27.april\n",
    "- Ferdig prosjekt: "
   ]
  },
  {
   "cell_type": "markdown",
   "metadata": {},
   "source": []
  }
 ],
 "metadata": {
  "language_info": {
   "name": "python"
  }
 },
 "nbformat": 4,
 "nbformat_minor": 2
}
