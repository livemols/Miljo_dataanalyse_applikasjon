{
 "cells": [
  {
   "cell_type": "markdown",
   "metadata": {},
   "source": [
    "# Fremdriftsplan\n",
    "\n",
    "### Innleveringsfrister:\n",
    "- Mappe del 1: 23.mars\n",
    "- Mappe del 2: 27.april\n",
    "- Ferdig prosjekt: Uke 15\n",
    "\n",
    "#### Referat (27.feb):\n",
    "- Forstå hvordan hente data fra API (må inn med registering av vann for å få tilgang)\n",
    "- Få data inn på csv-fil (fil som blir lagra under data)\n",
    "- Data tar for seg værdata (nedbørsmengde, vindhastighet, lufttfuktighet, etc.) fra de siste 10 åra\n",
    "\n",
    "PS: Lurt å ha lite data for å garantere at kode funker, forså hente inn mer presis data\n",
    "\n",
    "\n",
    "#### Referat (4.mars):\n",
    "- Må det opprettes venv per pers? \n",
    "- OK, med bare CSV? eller må vi ha JSON? Hva har det å si for kodekvaliteten/vurderingskriterier.\n",
    "- Er API relevant/må vi ha det? Skal det være slik at det ser slik ut? https://api.met.no/weatherapi/locationforecast/2.0/compact?lat=59.5445&lon=10.4445\n",
    "    \"Kvalitet viktigere enn å vise frem kunnskap om data innsamling\". Ergo. CSV er godt nokk.\n",
    "\n",
    "Jobbfordeling uke 10:\n",
    "Nathalie: Formatere data til dictionary\n",
    "Live: Skrive kildekritikk \n",
    "Anna: Sette seg inn i klasser\n"
   ]
  },
  {
   "cell_type": "markdown",
   "metadata": {},
   "source": [
    "### Håndtere data og struktur av oppgave\n",
    "\n",
    "Opprette klasser for å identifisere værdata i lister for hver enkelt dag(?uke?)\n",
    "\n",
    "Opprette en jason-fil som er strukturert i motsetning til csv-fil som er rådata hentet fra API (merk! API blir kontinuerlig oppdatert, csv er lagret lokalt og synkroniseres ikke). Jason-filen kan bli organisert med nøkler=dager\n",
    "\n",
    "Ulike funksjoner \n",
    "- Sortering av relevante verdier/statistiske mål: gjennomsnitt, median, standardavvik \n",
    "\n",
    "Hente inn data "
   ]
  },
  {
   "cell_type": "markdown",
   "metadata": {},
   "source": [
    "### Kilder/API:\n",
    "(lenker til data)"
   ]
  },
  {
   "cell_type": "markdown",
   "metadata": {},
   "source": []
  }
 ],
 "metadata": {
  "language_info": {
   "name": "python"
  }
 },
 "nbformat": 4,
 "nbformat_minor": 2
}
