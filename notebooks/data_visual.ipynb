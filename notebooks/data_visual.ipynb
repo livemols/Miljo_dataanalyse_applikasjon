{
 "cells": [
  {
   "cell_type": "markdown",
   "metadata": {},
   "source": [
    "# Data Visualisering\n",
    "\n",
    "Data_visual.ipynb er en interaktiv og visuell presentasjon av analysene fra data_analysis.ipynb. Hensikten er å formidle innsiktene på en informativ og engasjerende måte, rettet mot et bredere publikum.\n",
    "\n",
    "Vi starter med fokus på nedbør, med en visualisering som viser fordelingen av ulike nedbørstyper (i prosent) for hvert år i perioden 2014–2024. Deretter følger en oversikt over tørkeperiodene i samme periode.\n",
    "\n",
    "Deretter visualiseres vinddata gjennom percentiler, samt en årlig oversikt over høyeste, laveste og gjennomsnittlig vindhastighet.\n",
    "Siste delen blir en heatmap som viser trender i temperatur og et histogram over årlig forekomster av \"ekstremvær\"."
   ]
  },
  {
   "cell_type": "code",
   "execution_count": 4,
   "metadata": {},
   "outputs": [],
   "source": [
    "#Importerer funksjoner og klasser fra data_analysis.py og data_visual.py\n",
    "import sys\n",
    "import os\n",
    "import pandas as pd\n",
    "sys.path.insert(0, os.path.abspath(os.path.join(os.getcwd(), '../src')))\n",
    "\n",
    "original_file = \"blindern_data_cleaning.csv\"\n",
    "data_path = os.path.join(os.getcwd(),\"..\", \"data\")\n",
    "original_path = os.path.join(data_path, original_file)  \n",
    "df = pd.read_csv(original_path, delimiter=\";\")\n",
    "df[\"Tid\"] = pd.to_datetime(df[\"Tid\"])\n",
    "\n",
    "from modelling.data_analysis import DataAnalysis\n",
    "import modelling.data_visual\n",
    "\n",
    "from modelling.data_visual import DataVisual\n",
    "\n",
    "\n",
    "import json\n",
    "\n",
    "bins_path = os.path.join(os.getcwd(), \"..\", \"data\", \"bins.json\")\n",
    "with open(bins_path, \"r\", encoding=\"utf-8\") as f:\n",
    "    bin_defs = json.load(f)\n",
    "\n",
    "visualizer = DataVisual(df,bin_defs)\n",
    "\n",
    "\n"
   ]
  },
  {
   "cell_type": "markdown",
   "metadata": {},
   "source": [
    "### Fordeling av nedbørstype (årlig)\n",
    "Kakediagrammet viser fordelingen av nedbørstyper som forekomst i et år for alle år fra 2014 til 2024. Det er mulig å velge hvilket år man vil se på ved å velge på menyen på venstre hjørnet. Det er derfor også mulig å se på forskjeller i fordelingen fra år til år, samt økning/minskning av et eller flere nedbørstyper. "
   ]
  },
  {
   "cell_type": "code",
   "execution_count": null,
   "metadata": {},
   "outputs": [
    {
     "data": {
      "application/vnd.jupyter.widget-view+json": {
       "model_id": "c5e61072a49e4af29d64b47e2bea4c42",
       "version_major": 2,
       "version_minor": 0
      },
      "text/plain": [
       "interactive(children=(Dropdown(description='År:', options=(np.int32(2014), np.int32(2015), np.int32(2016), np.…"
      ]
     },
     "metadata": {},
     "output_type": "display_data"
    }
   ],
   "source": [
    "\n",
    "visualizer.plot_rainfall()"
   ]
  },
  {
   "cell_type": "markdown",
   "metadata": {},
   "source": [
    "### Tørkeperioder\n",
    "Grafen gir oversikt over alle tørkeperiode (dager uten nedbør) som varte over 12 kontinuerlig dager. "
   ]
  },
  {
   "cell_type": "code",
   "execution_count": 6,
   "metadata": {},
   "outputs": [
    {
     "data": {
      "application/vnd.plotly.v1+json": {
       "config": {
        "plotlyServerURL": "https://plot.ly"
       },
       "data": [
        {
         "base": [
          "2014-04-19T00:00:00.000000000",
          "2015-08-13T00:00:00.000000000",
          "2015-09-26T00:00:00.000000000",
          "2016-05-05T00:00:00.000000000",
          "2018-05-30T00:00:00.000000000",
          "2018-06-23T00:00:00.000000000",
          "2019-04-05T00:00:00.000000000",
          "2019-10-28T00:00:00.000000000",
          "2020-03-17T00:00:00.000000000",
          "2022-04-15T00:00:00.000000000",
          "2023-02-25T00:00:00.000000000",
          "2023-05-03T00:00:00.000000000",
          "2023-05-29T00:00:00.000000000",
          "2024-05-11T00:00:00.000000000"
         ],
         "hovertemplate": "Startdato=%{base}<br>Sluttdato=%{x}<br>Tørkeperioder (dager)=%{marker.color}<extra></extra>",
         "legendgroup": "",
         "marker": {
          "color": {
           "bdata": "EQwQDwwOFAwRDQwNFQ8=",
           "dtype": "i1"
          },
          "coloraxis": "coloraxis",
          "pattern": {
           "shape": ""
          }
         },
         "name": "",
         "orientation": "h",
         "showlegend": false,
         "textposition": "auto",
         "type": "bar",
         "x": {
          "bdata": "AMBlUgD0pTgAZD9NAAgZSAD0pTgArPJCANTYYQD0pTgAwGVSAFDMPQD0pTgAUMw9ADD/ZgAIGUg=",
          "dtype": "i4"
         },
         "xaxis": "x",
         "y": {
          "bdata": "EQwQDwwOFAwRDQwNFQ8=",
          "dtype": "i1"
         },
         "yaxis": "y"
        }
       ],
       "layout": {
        "barmode": "overlay",
        "coloraxis": {
         "colorbar": {
          "title": {
           "text": "Tørkeperioder (dager)"
          }
         },
         "colorscale": [
          [
           0,
           "rgb(0,0,255)"
          ],
          [
           1,
           "rgb(255,0,0)"
          ]
         ]
        },
        "legend": {
         "tracegroupgap": 0
        },
        "margin": {
         "t": 60
        },
        "showlegend": false,
        "template": {
         "data": {
          "bar": [
           {
            "error_x": {
             "color": "#2a3f5f"
            },
            "error_y": {
             "color": "#2a3f5f"
            },
            "marker": {
             "line": {
              "color": "#E5ECF6",
              "width": 0.5
             },
             "pattern": {
              "fillmode": "overlay",
              "size": 10,
              "solidity": 0.2
             }
            },
            "type": "bar"
           }
          ],
          "barpolar": [
           {
            "marker": {
             "line": {
              "color": "#E5ECF6",
              "width": 0.5
             },
             "pattern": {
              "fillmode": "overlay",
              "size": 10,
              "solidity": 0.2
             }
            },
            "type": "barpolar"
           }
          ],
          "carpet": [
           {
            "aaxis": {
             "endlinecolor": "#2a3f5f",
             "gridcolor": "white",
             "linecolor": "white",
             "minorgridcolor": "white",
             "startlinecolor": "#2a3f5f"
            },
            "baxis": {
             "endlinecolor": "#2a3f5f",
             "gridcolor": "white",
             "linecolor": "white",
             "minorgridcolor": "white",
             "startlinecolor": "#2a3f5f"
            },
            "type": "carpet"
           }
          ],
          "choropleth": [
           {
            "colorbar": {
             "outlinewidth": 0,
             "ticks": ""
            },
            "type": "choropleth"
           }
          ],
          "contour": [
           {
            "colorbar": {
             "outlinewidth": 0,
             "ticks": ""
            },
            "colorscale": [
             [
              0,
              "#0d0887"
             ],
             [
              0.1111111111111111,
              "#46039f"
             ],
             [
              0.2222222222222222,
              "#7201a8"
             ],
             [
              0.3333333333333333,
              "#9c179e"
             ],
             [
              0.4444444444444444,
              "#bd3786"
             ],
             [
              0.5555555555555556,
              "#d8576b"
             ],
             [
              0.6666666666666666,
              "#ed7953"
             ],
             [
              0.7777777777777778,
              "#fb9f3a"
             ],
             [
              0.8888888888888888,
              "#fdca26"
             ],
             [
              1,
              "#f0f921"
             ]
            ],
            "type": "contour"
           }
          ],
          "contourcarpet": [
           {
            "colorbar": {
             "outlinewidth": 0,
             "ticks": ""
            },
            "type": "contourcarpet"
           }
          ],
          "heatmap": [
           {
            "colorbar": {
             "outlinewidth": 0,
             "ticks": ""
            },
            "colorscale": [
             [
              0,
              "#0d0887"
             ],
             [
              0.1111111111111111,
              "#46039f"
             ],
             [
              0.2222222222222222,
              "#7201a8"
             ],
             [
              0.3333333333333333,
              "#9c179e"
             ],
             [
              0.4444444444444444,
              "#bd3786"
             ],
             [
              0.5555555555555556,
              "#d8576b"
             ],
             [
              0.6666666666666666,
              "#ed7953"
             ],
             [
              0.7777777777777778,
              "#fb9f3a"
             ],
             [
              0.8888888888888888,
              "#fdca26"
             ],
             [
              1,
              "#f0f921"
             ]
            ],
            "type": "heatmap"
           }
          ],
          "histogram": [
           {
            "marker": {
             "pattern": {
              "fillmode": "overlay",
              "size": 10,
              "solidity": 0.2
             }
            },
            "type": "histogram"
           }
          ],
          "histogram2d": [
           {
            "colorbar": {
             "outlinewidth": 0,
             "ticks": ""
            },
            "colorscale": [
             [
              0,
              "#0d0887"
             ],
             [
              0.1111111111111111,
              "#46039f"
             ],
             [
              0.2222222222222222,
              "#7201a8"
             ],
             [
              0.3333333333333333,
              "#9c179e"
             ],
             [
              0.4444444444444444,
              "#bd3786"
             ],
             [
              0.5555555555555556,
              "#d8576b"
             ],
             [
              0.6666666666666666,
              "#ed7953"
             ],
             [
              0.7777777777777778,
              "#fb9f3a"
             ],
             [
              0.8888888888888888,
              "#fdca26"
             ],
             [
              1,
              "#f0f921"
             ]
            ],
            "type": "histogram2d"
           }
          ],
          "histogram2dcontour": [
           {
            "colorbar": {
             "outlinewidth": 0,
             "ticks": ""
            },
            "colorscale": [
             [
              0,
              "#0d0887"
             ],
             [
              0.1111111111111111,
              "#46039f"
             ],
             [
              0.2222222222222222,
              "#7201a8"
             ],
             [
              0.3333333333333333,
              "#9c179e"
             ],
             [
              0.4444444444444444,
              "#bd3786"
             ],
             [
              0.5555555555555556,
              "#d8576b"
             ],
             [
              0.6666666666666666,
              "#ed7953"
             ],
             [
              0.7777777777777778,
              "#fb9f3a"
             ],
             [
              0.8888888888888888,
              "#fdca26"
             ],
             [
              1,
              "#f0f921"
             ]
            ],
            "type": "histogram2dcontour"
           }
          ],
          "mesh3d": [
           {
            "colorbar": {
             "outlinewidth": 0,
             "ticks": ""
            },
            "type": "mesh3d"
           }
          ],
          "parcoords": [
           {
            "line": {
             "colorbar": {
              "outlinewidth": 0,
              "ticks": ""
             }
            },
            "type": "parcoords"
           }
          ],
          "pie": [
           {
            "automargin": true,
            "type": "pie"
           }
          ],
          "scatter": [
           {
            "fillpattern": {
             "fillmode": "overlay",
             "size": 10,
             "solidity": 0.2
            },
            "type": "scatter"
           }
          ],
          "scatter3d": [
           {
            "line": {
             "colorbar": {
              "outlinewidth": 0,
              "ticks": ""
             }
            },
            "marker": {
             "colorbar": {
              "outlinewidth": 0,
              "ticks": ""
             }
            },
            "type": "scatter3d"
           }
          ],
          "scattercarpet": [
           {
            "marker": {
             "colorbar": {
              "outlinewidth": 0,
              "ticks": ""
             }
            },
            "type": "scattercarpet"
           }
          ],
          "scattergeo": [
           {
            "marker": {
             "colorbar": {
              "outlinewidth": 0,
              "ticks": ""
             }
            },
            "type": "scattergeo"
           }
          ],
          "scattergl": [
           {
            "marker": {
             "colorbar": {
              "outlinewidth": 0,
              "ticks": ""
             }
            },
            "type": "scattergl"
           }
          ],
          "scattermap": [
           {
            "marker": {
             "colorbar": {
              "outlinewidth": 0,
              "ticks": ""
             }
            },
            "type": "scattermap"
           }
          ],
          "scattermapbox": [
           {
            "marker": {
             "colorbar": {
              "outlinewidth": 0,
              "ticks": ""
             }
            },
            "type": "scattermapbox"
           }
          ],
          "scatterpolar": [
           {
            "marker": {
             "colorbar": {
              "outlinewidth": 0,
              "ticks": ""
             }
            },
            "type": "scatterpolar"
           }
          ],
          "scatterpolargl": [
           {
            "marker": {
             "colorbar": {
              "outlinewidth": 0,
              "ticks": ""
             }
            },
            "type": "scatterpolargl"
           }
          ],
          "scatterternary": [
           {
            "marker": {
             "colorbar": {
              "outlinewidth": 0,
              "ticks": ""
             }
            },
            "type": "scatterternary"
           }
          ],
          "surface": [
           {
            "colorbar": {
             "outlinewidth": 0,
             "ticks": ""
            },
            "colorscale": [
             [
              0,
              "#0d0887"
             ],
             [
              0.1111111111111111,
              "#46039f"
             ],
             [
              0.2222222222222222,
              "#7201a8"
             ],
             [
              0.3333333333333333,
              "#9c179e"
             ],
             [
              0.4444444444444444,
              "#bd3786"
             ],
             [
              0.5555555555555556,
              "#d8576b"
             ],
             [
              0.6666666666666666,
              "#ed7953"
             ],
             [
              0.7777777777777778,
              "#fb9f3a"
             ],
             [
              0.8888888888888888,
              "#fdca26"
             ],
             [
              1,
              "#f0f921"
             ]
            ],
            "type": "surface"
           }
          ],
          "table": [
           {
            "cells": {
             "fill": {
              "color": "#EBF0F8"
             },
             "line": {
              "color": "white"
             }
            },
            "header": {
             "fill": {
              "color": "#C8D4E3"
             },
             "line": {
              "color": "white"
             }
            },
            "type": "table"
           }
          ]
         },
         "layout": {
          "annotationdefaults": {
           "arrowcolor": "#2a3f5f",
           "arrowhead": 0,
           "arrowwidth": 1
          },
          "autotypenumbers": "strict",
          "coloraxis": {
           "colorbar": {
            "outlinewidth": 0,
            "ticks": ""
           }
          },
          "colorscale": {
           "diverging": [
            [
             0,
             "#8e0152"
            ],
            [
             0.1,
             "#c51b7d"
            ],
            [
             0.2,
             "#de77ae"
            ],
            [
             0.3,
             "#f1b6da"
            ],
            [
             0.4,
             "#fde0ef"
            ],
            [
             0.5,
             "#f7f7f7"
            ],
            [
             0.6,
             "#e6f5d0"
            ],
            [
             0.7,
             "#b8e186"
            ],
            [
             0.8,
             "#7fbc41"
            ],
            [
             0.9,
             "#4d9221"
            ],
            [
             1,
             "#276419"
            ]
           ],
           "sequential": [
            [
             0,
             "#0d0887"
            ],
            [
             0.1111111111111111,
             "#46039f"
            ],
            [
             0.2222222222222222,
             "#7201a8"
            ],
            [
             0.3333333333333333,
             "#9c179e"
            ],
            [
             0.4444444444444444,
             "#bd3786"
            ],
            [
             0.5555555555555556,
             "#d8576b"
            ],
            [
             0.6666666666666666,
             "#ed7953"
            ],
            [
             0.7777777777777778,
             "#fb9f3a"
            ],
            [
             0.8888888888888888,
             "#fdca26"
            ],
            [
             1,
             "#f0f921"
            ]
           ],
           "sequentialminus": [
            [
             0,
             "#0d0887"
            ],
            [
             0.1111111111111111,
             "#46039f"
            ],
            [
             0.2222222222222222,
             "#7201a8"
            ],
            [
             0.3333333333333333,
             "#9c179e"
            ],
            [
             0.4444444444444444,
             "#bd3786"
            ],
            [
             0.5555555555555556,
             "#d8576b"
            ],
            [
             0.6666666666666666,
             "#ed7953"
            ],
            [
             0.7777777777777778,
             "#fb9f3a"
            ],
            [
             0.8888888888888888,
             "#fdca26"
            ],
            [
             1,
             "#f0f921"
            ]
           ]
          },
          "colorway": [
           "#636efa",
           "#EF553B",
           "#00cc96",
           "#ab63fa",
           "#FFA15A",
           "#19d3f3",
           "#FF6692",
           "#B6E880",
           "#FF97FF",
           "#FECB52"
          ],
          "font": {
           "color": "#2a3f5f"
          },
          "geo": {
           "bgcolor": "white",
           "lakecolor": "white",
           "landcolor": "#E5ECF6",
           "showlakes": true,
           "showland": true,
           "subunitcolor": "white"
          },
          "hoverlabel": {
           "align": "left"
          },
          "hovermode": "closest",
          "mapbox": {
           "style": "light"
          },
          "paper_bgcolor": "white",
          "plot_bgcolor": "#E5ECF6",
          "polar": {
           "angularaxis": {
            "gridcolor": "white",
            "linecolor": "white",
            "ticks": ""
           },
           "bgcolor": "#E5ECF6",
           "radialaxis": {
            "gridcolor": "white",
            "linecolor": "white",
            "ticks": ""
           }
          },
          "scene": {
           "xaxis": {
            "backgroundcolor": "#E5ECF6",
            "gridcolor": "white",
            "gridwidth": 2,
            "linecolor": "white",
            "showbackground": true,
            "ticks": "",
            "zerolinecolor": "white"
           },
           "yaxis": {
            "backgroundcolor": "#E5ECF6",
            "gridcolor": "white",
            "gridwidth": 2,
            "linecolor": "white",
            "showbackground": true,
            "ticks": "",
            "zerolinecolor": "white"
           },
           "zaxis": {
            "backgroundcolor": "#E5ECF6",
            "gridcolor": "white",
            "gridwidth": 2,
            "linecolor": "white",
            "showbackground": true,
            "ticks": "",
            "zerolinecolor": "white"
           }
          },
          "shapedefaults": {
           "line": {
            "color": "#2a3f5f"
           }
          },
          "ternary": {
           "aaxis": {
            "gridcolor": "white",
            "linecolor": "white",
            "ticks": ""
           },
           "baxis": {
            "gridcolor": "white",
            "linecolor": "white",
            "ticks": ""
           },
           "bgcolor": "#E5ECF6",
           "caxis": {
            "gridcolor": "white",
            "linecolor": "white",
            "ticks": ""
           }
          },
          "title": {
           "x": 0.05
          },
          "xaxis": {
           "automargin": true,
           "gridcolor": "white",
           "linecolor": "white",
           "ticks": "",
           "title": {
            "standoff": 15
           },
           "zerolinecolor": "white",
           "zerolinewidth": 2
          },
          "yaxis": {
           "automargin": true,
           "gridcolor": "white",
           "linecolor": "white",
           "ticks": "",
           "title": {
            "standoff": 15
           },
           "zerolinecolor": "white",
           "zerolinewidth": 2
          }
         }
        },
        "title": {
         "text": "Tørkeperioder (≥12 dager)"
        },
        "xaxis": {
         "anchor": "y",
         "domain": [
          0,
          1
         ],
         "title": {
          "text": "Dato"
         },
         "type": "date"
        },
        "yaxis": {
         "anchor": "x",
         "domain": [
          0,
          1
         ],
         "title": {
          "text": "Varighet (dager)"
         }
        }
       }
      }
     },
     "metadata": {},
     "output_type": "display_data"
    }
   ],
   "source": [
    "\n",
    "visualizer.plot_dry_periods(grense=12)"
   ]
  },
  {
   "cell_type": "markdown",
   "metadata": {},
   "source": [
    "# Vind\n",
    "### Vind gjennom percentiler\n",
    "Denne koden visualiserer fordelingen av middelvind i form av en percentilkurve. Ved å sortere vindhastighetene og plassere dem langs en skala fra 0 til 100 prosent, får vi et tydelig bilde av hvordan vindverdiene fordeler seg. Grafen gjør det enkelt å identifisere hvor store deler av datagrunnlaget som ligger under bestemte vindnivåer – for eksempel kan man se hvilken vindstyrke som representerer 90. percentil."
   ]
  },
  {
   "cell_type": "code",
   "execution_count": 7,
   "metadata": {},
   "outputs": [
    {
     "data": {
      "application/vnd.plotly.v1+json": {
       "config": {
        "plotlyServerURL": "https://plot.ly"
       },
       "data": [
        {
         "line": {
          "dash": "solid",
          "width": 2
         },
         "mode": "lines",
         "name": "Percentile",
         "type": "scatter",
         "x": {
          "bdata": "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",
          "dtype": "f8"
         },
         "y": {
          "bdata": "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",
          "dtype": "f8"
         }
        }
       ],
       "layout": {
        "legend": {
         "x": 0.7,
         "y": 0.9
        },
        "showlegend": false,
        "template": {
         "data": {
          "bar": [
           {
            "error_x": {
             "color": "#2a3f5f"
            },
            "error_y": {
             "color": "#2a3f5f"
            },
            "marker": {
             "line": {
              "color": "#E5ECF6",
              "width": 0.5
             },
             "pattern": {
              "fillmode": "overlay",
              "size": 10,
              "solidity": 0.2
             }
            },
            "type": "bar"
           }
          ],
          "barpolar": [
           {
            "marker": {
             "line": {
              "color": "#E5ECF6",
              "width": 0.5
             },
             "pattern": {
              "fillmode": "overlay",
              "size": 10,
              "solidity": 0.2
             }
            },
            "type": "barpolar"
           }
          ],
          "carpet": [
           {
            "aaxis": {
             "endlinecolor": "#2a3f5f",
             "gridcolor": "white",
             "linecolor": "white",
             "minorgridcolor": "white",
             "startlinecolor": "#2a3f5f"
            },
            "baxis": {
             "endlinecolor": "#2a3f5f",
             "gridcolor": "white",
             "linecolor": "white",
             "minorgridcolor": "white",
             "startlinecolor": "#2a3f5f"
            },
            "type": "carpet"
           }
          ],
          "choropleth": [
           {
            "colorbar": {
             "outlinewidth": 0,
             "ticks": ""
            },
            "type": "choropleth"
           }
          ],
          "contour": [
           {
            "colorbar": {
             "outlinewidth": 0,
             "ticks": ""
            },
            "colorscale": [
             [
              0,
              "#0d0887"
             ],
             [
              0.1111111111111111,
              "#46039f"
             ],
             [
              0.2222222222222222,
              "#7201a8"
             ],
             [
              0.3333333333333333,
              "#9c179e"
             ],
             [
              0.4444444444444444,
              "#bd3786"
             ],
             [
              0.5555555555555556,
              "#d8576b"
             ],
             [
              0.6666666666666666,
              "#ed7953"
             ],
             [
              0.7777777777777778,
              "#fb9f3a"
             ],
             [
              0.8888888888888888,
              "#fdca26"
             ],
             [
              1,
              "#f0f921"
             ]
            ],
            "type": "contour"
           }
          ],
          "contourcarpet": [
           {
            "colorbar": {
             "outlinewidth": 0,
             "ticks": ""
            },
            "type": "contourcarpet"
           }
          ],
          "heatmap": [
           {
            "colorbar": {
             "outlinewidth": 0,
             "ticks": ""
            },
            "colorscale": [
             [
              0,
              "#0d0887"
             ],
             [
              0.1111111111111111,
              "#46039f"
             ],
             [
              0.2222222222222222,
              "#7201a8"
             ],
             [
              0.3333333333333333,
              "#9c179e"
             ],
             [
              0.4444444444444444,
              "#bd3786"
             ],
             [
              0.5555555555555556,
              "#d8576b"
             ],
             [
              0.6666666666666666,
              "#ed7953"
             ],
             [
              0.7777777777777778,
              "#fb9f3a"
             ],
             [
              0.8888888888888888,
              "#fdca26"
             ],
             [
              1,
              "#f0f921"
             ]
            ],
            "type": "heatmap"
           }
          ],
          "histogram": [
           {
            "marker": {
             "pattern": {
              "fillmode": "overlay",
              "size": 10,
              "solidity": 0.2
             }
            },
            "type": "histogram"
           }
          ],
          "histogram2d": [
           {
            "colorbar": {
             "outlinewidth": 0,
             "ticks": ""
            },
            "colorscale": [
             [
              0,
              "#0d0887"
             ],
             [
              0.1111111111111111,
              "#46039f"
             ],
             [
              0.2222222222222222,
              "#7201a8"
             ],
             [
              0.3333333333333333,
              "#9c179e"
             ],
             [
              0.4444444444444444,
              "#bd3786"
             ],
             [
              0.5555555555555556,
              "#d8576b"
             ],
             [
              0.6666666666666666,
              "#ed7953"
             ],
             [
              0.7777777777777778,
              "#fb9f3a"
             ],
             [
              0.8888888888888888,
              "#fdca26"
             ],
             [
              1,
              "#f0f921"
             ]
            ],
            "type": "histogram2d"
           }
          ],
          "histogram2dcontour": [
           {
            "colorbar": {
             "outlinewidth": 0,
             "ticks": ""
            },
            "colorscale": [
             [
              0,
              "#0d0887"
             ],
             [
              0.1111111111111111,
              "#46039f"
             ],
             [
              0.2222222222222222,
              "#7201a8"
             ],
             [
              0.3333333333333333,
              "#9c179e"
             ],
             [
              0.4444444444444444,
              "#bd3786"
             ],
             [
              0.5555555555555556,
              "#d8576b"
             ],
             [
              0.6666666666666666,
              "#ed7953"
             ],
             [
              0.7777777777777778,
              "#fb9f3a"
             ],
             [
              0.8888888888888888,
              "#fdca26"
             ],
             [
              1,
              "#f0f921"
             ]
            ],
            "type": "histogram2dcontour"
           }
          ],
          "mesh3d": [
           {
            "colorbar": {
             "outlinewidth": 0,
             "ticks": ""
            },
            "type": "mesh3d"
           }
          ],
          "parcoords": [
           {
            "line": {
             "colorbar": {
              "outlinewidth": 0,
              "ticks": ""
             }
            },
            "type": "parcoords"
           }
          ],
          "pie": [
           {
            "automargin": true,
            "type": "pie"
           }
          ],
          "scatter": [
           {
            "fillpattern": {
             "fillmode": "overlay",
             "size": 10,
             "solidity": 0.2
            },
            "type": "scatter"
           }
          ],
          "scatter3d": [
           {
            "line": {
             "colorbar": {
              "outlinewidth": 0,
              "ticks": ""
             }
            },
            "marker": {
             "colorbar": {
              "outlinewidth": 0,
              "ticks": ""
             }
            },
            "type": "scatter3d"
           }
          ],
          "scattercarpet": [
           {
            "marker": {
             "colorbar": {
              "outlinewidth": 0,
              "ticks": ""
             }
            },
            "type": "scattercarpet"
           }
          ],
          "scattergeo": [
           {
            "marker": {
             "colorbar": {
              "outlinewidth": 0,
              "ticks": ""
             }
            },
            "type": "scattergeo"
           }
          ],
          "scattergl": [
           {
            "marker": {
             "colorbar": {
              "outlinewidth": 0,
              "ticks": ""
             }
            },
            "type": "scattergl"
           }
          ],
          "scattermap": [
           {
            "marker": {
             "colorbar": {
              "outlinewidth": 0,
              "ticks": ""
             }
            },
            "type": "scattermap"
           }
          ],
          "scattermapbox": [
           {
            "marker": {
             "colorbar": {
              "outlinewidth": 0,
              "ticks": ""
             }
            },
            "type": "scattermapbox"
           }
          ],
          "scatterpolar": [
           {
            "marker": {
             "colorbar": {
              "outlinewidth": 0,
              "ticks": ""
             }
            },
            "type": "scatterpolar"
           }
          ],
          "scatterpolargl": [
           {
            "marker": {
             "colorbar": {
              "outlinewidth": 0,
              "ticks": ""
             }
            },
            "type": "scatterpolargl"
           }
          ],
          "scatterternary": [
           {
            "marker": {
             "colorbar": {
              "outlinewidth": 0,
              "ticks": ""
             }
            },
            "type": "scatterternary"
           }
          ],
          "surface": [
           {
            "colorbar": {
             "outlinewidth": 0,
             "ticks": ""
            },
            "colorscale": [
             [
              0,
              "#0d0887"
             ],
             [
              0.1111111111111111,
              "#46039f"
             ],
             [
              0.2222222222222222,
              "#7201a8"
             ],
             [
              0.3333333333333333,
              "#9c179e"
             ],
             [
              0.4444444444444444,
              "#bd3786"
             ],
             [
              0.5555555555555556,
              "#d8576b"
             ],
             [
              0.6666666666666666,
              "#ed7953"
             ],
             [
              0.7777777777777778,
              "#fb9f3a"
             ],
             [
              0.8888888888888888,
              "#fdca26"
             ],
             [
              1,
              "#f0f921"
             ]
            ],
            "type": "surface"
           }
          ],
          "table": [
           {
            "cells": {
             "fill": {
              "color": "#EBF0F8"
             },
             "line": {
              "color": "white"
             }
            },
            "header": {
             "fill": {
              "color": "#C8D4E3"
             },
             "line": {
              "color": "white"
             }
            },
            "type": "table"
           }
          ]
         },
         "layout": {
          "annotationdefaults": {
           "arrowcolor": "#2a3f5f",
           "arrowhead": 0,
           "arrowwidth": 1
          },
          "autotypenumbers": "strict",
          "coloraxis": {
           "colorbar": {
            "outlinewidth": 0,
            "ticks": ""
           }
          },
          "colorscale": {
           "diverging": [
            [
             0,
             "#8e0152"
            ],
            [
             0.1,
             "#c51b7d"
            ],
            [
             0.2,
             "#de77ae"
            ],
            [
             0.3,
             "#f1b6da"
            ],
            [
             0.4,
             "#fde0ef"
            ],
            [
             0.5,
             "#f7f7f7"
            ],
            [
             0.6,
             "#e6f5d0"
            ],
            [
             0.7,
             "#b8e186"
            ],
            [
             0.8,
             "#7fbc41"
            ],
            [
             0.9,
             "#4d9221"
            ],
            [
             1,
             "#276419"
            ]
           ],
           "sequential": [
            [
             0,
             "#0d0887"
            ],
            [
             0.1111111111111111,
             "#46039f"
            ],
            [
             0.2222222222222222,
             "#7201a8"
            ],
            [
             0.3333333333333333,
             "#9c179e"
            ],
            [
             0.4444444444444444,
             "#bd3786"
            ],
            [
             0.5555555555555556,
             "#d8576b"
            ],
            [
             0.6666666666666666,
             "#ed7953"
            ],
            [
             0.7777777777777778,
             "#fb9f3a"
            ],
            [
             0.8888888888888888,
             "#fdca26"
            ],
            [
             1,
             "#f0f921"
            ]
           ],
           "sequentialminus": [
            [
             0,
             "#0d0887"
            ],
            [
             0.1111111111111111,
             "#46039f"
            ],
            [
             0.2222222222222222,
             "#7201a8"
            ],
            [
             0.3333333333333333,
             "#9c179e"
            ],
            [
             0.4444444444444444,
             "#bd3786"
            ],
            [
             0.5555555555555556,
             "#d8576b"
            ],
            [
             0.6666666666666666,
             "#ed7953"
            ],
            [
             0.7777777777777778,
             "#fb9f3a"
            ],
            [
             0.8888888888888888,
             "#fdca26"
            ],
            [
             1,
             "#f0f921"
            ]
           ]
          },
          "colorway": [
           "#636efa",
           "#EF553B",
           "#00cc96",
           "#ab63fa",
           "#FFA15A",
           "#19d3f3",
           "#FF6692",
           "#B6E880",
           "#FF97FF",
           "#FECB52"
          ],
          "font": {
           "color": "#2a3f5f"
          },
          "geo": {
           "bgcolor": "white",
           "lakecolor": "white",
           "landcolor": "#E5ECF6",
           "showlakes": true,
           "showland": true,
           "subunitcolor": "white"
          },
          "hoverlabel": {
           "align": "left"
          },
          "hovermode": "closest",
          "mapbox": {
           "style": "light"
          },
          "paper_bgcolor": "white",
          "plot_bgcolor": "#E5ECF6",
          "polar": {
           "angularaxis": {
            "gridcolor": "white",
            "linecolor": "white",
            "ticks": ""
           },
           "bgcolor": "#E5ECF6",
           "radialaxis": {
            "gridcolor": "white",
            "linecolor": "white",
            "ticks": ""
           }
          },
          "scene": {
           "xaxis": {
            "backgroundcolor": "#E5ECF6",
            "gridcolor": "white",
            "gridwidth": 2,
            "linecolor": "white",
            "showbackground": true,
            "ticks": "",
            "zerolinecolor": "white"
           },
           "yaxis": {
            "backgroundcolor": "#E5ECF6",
            "gridcolor": "white",
            "gridwidth": 2,
            "linecolor": "white",
            "showbackground": true,
            "ticks": "",
            "zerolinecolor": "white"
           },
           "zaxis": {
            "backgroundcolor": "#E5ECF6",
            "gridcolor": "white",
            "gridwidth": 2,
            "linecolor": "white",
            "showbackground": true,
            "ticks": "",
            "zerolinecolor": "white"
           }
          },
          "shapedefaults": {
           "line": {
            "color": "#2a3f5f"
           }
          },
          "ternary": {
           "aaxis": {
            "gridcolor": "white",
            "linecolor": "white",
            "ticks": ""
           },
           "baxis": {
            "gridcolor": "white",
            "linecolor": "white",
            "ticks": ""
           },
           "bgcolor": "#E5ECF6",
           "caxis": {
            "gridcolor": "white",
            "linecolor": "white",
            "ticks": ""
           }
          },
          "title": {
           "x": 0.05
          },
          "xaxis": {
           "automargin": true,
           "gridcolor": "white",
           "linecolor": "white",
           "ticks": "",
           "title": {
            "standoff": 15
           },
           "zerolinecolor": "white",
           "zerolinewidth": 2
          },
          "yaxis": {
           "automargin": true,
           "gridcolor": "white",
           "linecolor": "white",
           "ticks": "",
           "title": {
            "standoff": 15
           },
           "zerolinecolor": "white",
           "zerolinewidth": 2
          }
         }
        },
        "title": {
         "text": "Vind i percentiler"
        },
        "xaxis": {
         "range": [
          0,
          105
         ],
         "title": {
          "text": "Percentil"
         }
        },
        "yaxis": {
         "title": {
          "text": "Vind (m/s)"
         }
        }
       }
      }
     },
     "metadata": {},
     "output_type": "display_data"
    }
   ],
   "source": [
    "visualizer.plot_wind_percentiles()"
   ]
  },
  {
   "cell_type": "markdown",
   "metadata": {},
   "source": [
    "### Linechart \n",
    "Denne grafen viser maksimal, minimal og gjennomsnittlig vindstyrke per år i perioden. Den gir et raskt overblikk over variasjonen i vindforhold fra år til år, og kan brukes til å identifisere år med spesielt kraftig eller svak vind."
   ]
  },
  {
   "cell_type": "code",
   "execution_count": 8,
   "metadata": {},
   "outputs": [
    {
     "data": {
      "application/vnd.plotly.v1+json": {
       "config": {
        "plotlyServerURL": "https://plot.ly"
       },
       "data": [
        {
         "name": "Maksimal Vind",
         "type": "bar",
         "x": {
          "bdata": "3gcAAN8HAADgBwAA4QcAAOIHAADjBwAA5AcAAOUHAADmBwAA5wcAAOgHAAA=",
          "dtype": "i4"
         },
         "y": {
          "bdata": "AAAAAAAAHkAAAAAAAAAaQJqZmZmZmRtAAAAAAAAAIEAzMzMzMzMgQGZmZmZmZhxAzczMzMzMIEDNzMzMzMweQJqZmZmZmRtAMzMzMzMzIECamZmZmZkbQA==",
          "dtype": "f8"
         }
        },
        {
         "name": "Minimal Vind",
         "type": "bar",
         "x": {
          "bdata": "3gcAAN8HAADgBwAA4QcAAOIHAADjBwAA5AcAAOUHAADmBwAA5wcAAOgHAAA=",
          "dtype": "i4"
         },
         "y": {
          "bdata": "MzMzMzMz4z+amZmZmZnpP2ZmZmZmZuY/ZmZmZmZm5j9mZmZmZmbmP5qZmZmZmek/ZmZmZmZm5j+amZmZmZnpPwAAAAAAAPA/mpmZmZmZ6T8zMzMzMzPjPw==",
          "dtype": "f8"
         }
        },
        {
         "name": "Gjennomsnittlig Vind",
         "type": "bar",
         "x": {
          "bdata": "3gcAAN8HAADgBwAA4QcAAOIHAADjBwAA5AcAAOUHAADmBwAA5wcAAOgHAAA=",
          "dtype": "i4"
         },
         "y": {
          "bdata": "3nMGkg9xBkCTqkDTXtwFQCouGYJ1tAVAD1LX4fYgBUB0RBjz2+AFQBaHnf3wCgZAOz8qk4bFBkCuCVuXqWcFQCIQ7aYaAgVAGyGU4N9EBUAdPpbdeHAEQA==",
          "dtype": "f8"
         }
        }
       ],
       "layout": {
        "barmode": "group",
        "template": {
         "data": {
          "bar": [
           {
            "error_x": {
             "color": "#2a3f5f"
            },
            "error_y": {
             "color": "#2a3f5f"
            },
            "marker": {
             "line": {
              "color": "#E5ECF6",
              "width": 0.5
             },
             "pattern": {
              "fillmode": "overlay",
              "size": 10,
              "solidity": 0.2
             }
            },
            "type": "bar"
           }
          ],
          "barpolar": [
           {
            "marker": {
             "line": {
              "color": "#E5ECF6",
              "width": 0.5
             },
             "pattern": {
              "fillmode": "overlay",
              "size": 10,
              "solidity": 0.2
             }
            },
            "type": "barpolar"
           }
          ],
          "carpet": [
           {
            "aaxis": {
             "endlinecolor": "#2a3f5f",
             "gridcolor": "white",
             "linecolor": "white",
             "minorgridcolor": "white",
             "startlinecolor": "#2a3f5f"
            },
            "baxis": {
             "endlinecolor": "#2a3f5f",
             "gridcolor": "white",
             "linecolor": "white",
             "minorgridcolor": "white",
             "startlinecolor": "#2a3f5f"
            },
            "type": "carpet"
           }
          ],
          "choropleth": [
           {
            "colorbar": {
             "outlinewidth": 0,
             "ticks": ""
            },
            "type": "choropleth"
           }
          ],
          "contour": [
           {
            "colorbar": {
             "outlinewidth": 0,
             "ticks": ""
            },
            "colorscale": [
             [
              0,
              "#0d0887"
             ],
             [
              0.1111111111111111,
              "#46039f"
             ],
             [
              0.2222222222222222,
              "#7201a8"
             ],
             [
              0.3333333333333333,
              "#9c179e"
             ],
             [
              0.4444444444444444,
              "#bd3786"
             ],
             [
              0.5555555555555556,
              "#d8576b"
             ],
             [
              0.6666666666666666,
              "#ed7953"
             ],
             [
              0.7777777777777778,
              "#fb9f3a"
             ],
             [
              0.8888888888888888,
              "#fdca26"
             ],
             [
              1,
              "#f0f921"
             ]
            ],
            "type": "contour"
           }
          ],
          "contourcarpet": [
           {
            "colorbar": {
             "outlinewidth": 0,
             "ticks": ""
            },
            "type": "contourcarpet"
           }
          ],
          "heatmap": [
           {
            "colorbar": {
             "outlinewidth": 0,
             "ticks": ""
            },
            "colorscale": [
             [
              0,
              "#0d0887"
             ],
             [
              0.1111111111111111,
              "#46039f"
             ],
             [
              0.2222222222222222,
              "#7201a8"
             ],
             [
              0.3333333333333333,
              "#9c179e"
             ],
             [
              0.4444444444444444,
              "#bd3786"
             ],
             [
              0.5555555555555556,
              "#d8576b"
             ],
             [
              0.6666666666666666,
              "#ed7953"
             ],
             [
              0.7777777777777778,
              "#fb9f3a"
             ],
             [
              0.8888888888888888,
              "#fdca26"
             ],
             [
              1,
              "#f0f921"
             ]
            ],
            "type": "heatmap"
           }
          ],
          "histogram": [
           {
            "marker": {
             "pattern": {
              "fillmode": "overlay",
              "size": 10,
              "solidity": 0.2
             }
            },
            "type": "histogram"
           }
          ],
          "histogram2d": [
           {
            "colorbar": {
             "outlinewidth": 0,
             "ticks": ""
            },
            "colorscale": [
             [
              0,
              "#0d0887"
             ],
             [
              0.1111111111111111,
              "#46039f"
             ],
             [
              0.2222222222222222,
              "#7201a8"
             ],
             [
              0.3333333333333333,
              "#9c179e"
             ],
             [
              0.4444444444444444,
              "#bd3786"
             ],
             [
              0.5555555555555556,
              "#d8576b"
             ],
             [
              0.6666666666666666,
              "#ed7953"
             ],
             [
              0.7777777777777778,
              "#fb9f3a"
             ],
             [
              0.8888888888888888,
              "#fdca26"
             ],
             [
              1,
              "#f0f921"
             ]
            ],
            "type": "histogram2d"
           }
          ],
          "histogram2dcontour": [
           {
            "colorbar": {
             "outlinewidth": 0,
             "ticks": ""
            },
            "colorscale": [
             [
              0,
              "#0d0887"
             ],
             [
              0.1111111111111111,
              "#46039f"
             ],
             [
              0.2222222222222222,
              "#7201a8"
             ],
             [
              0.3333333333333333,
              "#9c179e"
             ],
             [
              0.4444444444444444,
              "#bd3786"
             ],
             [
              0.5555555555555556,
              "#d8576b"
             ],
             [
              0.6666666666666666,
              "#ed7953"
             ],
             [
              0.7777777777777778,
              "#fb9f3a"
             ],
             [
              0.8888888888888888,
              "#fdca26"
             ],
             [
              1,
              "#f0f921"
             ]
            ],
            "type": "histogram2dcontour"
           }
          ],
          "mesh3d": [
           {
            "colorbar": {
             "outlinewidth": 0,
             "ticks": ""
            },
            "type": "mesh3d"
           }
          ],
          "parcoords": [
           {
            "line": {
             "colorbar": {
              "outlinewidth": 0,
              "ticks": ""
             }
            },
            "type": "parcoords"
           }
          ],
          "pie": [
           {
            "automargin": true,
            "type": "pie"
           }
          ],
          "scatter": [
           {
            "fillpattern": {
             "fillmode": "overlay",
             "size": 10,
             "solidity": 0.2
            },
            "type": "scatter"
           }
          ],
          "scatter3d": [
           {
            "line": {
             "colorbar": {
              "outlinewidth": 0,
              "ticks": ""
             }
            },
            "marker": {
             "colorbar": {
              "outlinewidth": 0,
              "ticks": ""
             }
            },
            "type": "scatter3d"
           }
          ],
          "scattercarpet": [
           {
            "marker": {
             "colorbar": {
              "outlinewidth": 0,
              "ticks": ""
             }
            },
            "type": "scattercarpet"
           }
          ],
          "scattergeo": [
           {
            "marker": {
             "colorbar": {
              "outlinewidth": 0,
              "ticks": ""
             }
            },
            "type": "scattergeo"
           }
          ],
          "scattergl": [
           {
            "marker": {
             "colorbar": {
              "outlinewidth": 0,
              "ticks": ""
             }
            },
            "type": "scattergl"
           }
          ],
          "scattermap": [
           {
            "marker": {
             "colorbar": {
              "outlinewidth": 0,
              "ticks": ""
             }
            },
            "type": "scattermap"
           }
          ],
          "scattermapbox": [
           {
            "marker": {
             "colorbar": {
              "outlinewidth": 0,
              "ticks": ""
             }
            },
            "type": "scattermapbox"
           }
          ],
          "scatterpolar": [
           {
            "marker": {
             "colorbar": {
              "outlinewidth": 0,
              "ticks": ""
             }
            },
            "type": "scatterpolar"
           }
          ],
          "scatterpolargl": [
           {
            "marker": {
             "colorbar": {
              "outlinewidth": 0,
              "ticks": ""
             }
            },
            "type": "scatterpolargl"
           }
          ],
          "scatterternary": [
           {
            "marker": {
             "colorbar": {
              "outlinewidth": 0,
              "ticks": ""
             }
            },
            "type": "scatterternary"
           }
          ],
          "surface": [
           {
            "colorbar": {
             "outlinewidth": 0,
             "ticks": ""
            },
            "colorscale": [
             [
              0,
              "#0d0887"
             ],
             [
              0.1111111111111111,
              "#46039f"
             ],
             [
              0.2222222222222222,
              "#7201a8"
             ],
             [
              0.3333333333333333,
              "#9c179e"
             ],
             [
              0.4444444444444444,
              "#bd3786"
             ],
             [
              0.5555555555555556,
              "#d8576b"
             ],
             [
              0.6666666666666666,
              "#ed7953"
             ],
             [
              0.7777777777777778,
              "#fb9f3a"
             ],
             [
              0.8888888888888888,
              "#fdca26"
             ],
             [
              1,
              "#f0f921"
             ]
            ],
            "type": "surface"
           }
          ],
          "table": [
           {
            "cells": {
             "fill": {
              "color": "#EBF0F8"
             },
             "line": {
              "color": "white"
             }
            },
            "header": {
             "fill": {
              "color": "#C8D4E3"
             },
             "line": {
              "color": "white"
             }
            },
            "type": "table"
           }
          ]
         },
         "layout": {
          "annotationdefaults": {
           "arrowcolor": "#2a3f5f",
           "arrowhead": 0,
           "arrowwidth": 1
          },
          "autotypenumbers": "strict",
          "coloraxis": {
           "colorbar": {
            "outlinewidth": 0,
            "ticks": ""
           }
          },
          "colorscale": {
           "diverging": [
            [
             0,
             "#8e0152"
            ],
            [
             0.1,
             "#c51b7d"
            ],
            [
             0.2,
             "#de77ae"
            ],
            [
             0.3,
             "#f1b6da"
            ],
            [
             0.4,
             "#fde0ef"
            ],
            [
             0.5,
             "#f7f7f7"
            ],
            [
             0.6,
             "#e6f5d0"
            ],
            [
             0.7,
             "#b8e186"
            ],
            [
             0.8,
             "#7fbc41"
            ],
            [
             0.9,
             "#4d9221"
            ],
            [
             1,
             "#276419"
            ]
           ],
           "sequential": [
            [
             0,
             "#0d0887"
            ],
            [
             0.1111111111111111,
             "#46039f"
            ],
            [
             0.2222222222222222,
             "#7201a8"
            ],
            [
             0.3333333333333333,
             "#9c179e"
            ],
            [
             0.4444444444444444,
             "#bd3786"
            ],
            [
             0.5555555555555556,
             "#d8576b"
            ],
            [
             0.6666666666666666,
             "#ed7953"
            ],
            [
             0.7777777777777778,
             "#fb9f3a"
            ],
            [
             0.8888888888888888,
             "#fdca26"
            ],
            [
             1,
             "#f0f921"
            ]
           ],
           "sequentialminus": [
            [
             0,
             "#0d0887"
            ],
            [
             0.1111111111111111,
             "#46039f"
            ],
            [
             0.2222222222222222,
             "#7201a8"
            ],
            [
             0.3333333333333333,
             "#9c179e"
            ],
            [
             0.4444444444444444,
             "#bd3786"
            ],
            [
             0.5555555555555556,
             "#d8576b"
            ],
            [
             0.6666666666666666,
             "#ed7953"
            ],
            [
             0.7777777777777778,
             "#fb9f3a"
            ],
            [
             0.8888888888888888,
             "#fdca26"
            ],
            [
             1,
             "#f0f921"
            ]
           ]
          },
          "colorway": [
           "#636efa",
           "#EF553B",
           "#00cc96",
           "#ab63fa",
           "#FFA15A",
           "#19d3f3",
           "#FF6692",
           "#B6E880",
           "#FF97FF",
           "#FECB52"
          ],
          "font": {
           "color": "#2a3f5f"
          },
          "geo": {
           "bgcolor": "white",
           "lakecolor": "white",
           "landcolor": "#E5ECF6",
           "showlakes": true,
           "showland": true,
           "subunitcolor": "white"
          },
          "hoverlabel": {
           "align": "left"
          },
          "hovermode": "closest",
          "mapbox": {
           "style": "light"
          },
          "paper_bgcolor": "white",
          "plot_bgcolor": "#E5ECF6",
          "polar": {
           "angularaxis": {
            "gridcolor": "white",
            "linecolor": "white",
            "ticks": ""
           },
           "bgcolor": "#E5ECF6",
           "radialaxis": {
            "gridcolor": "white",
            "linecolor": "white",
            "ticks": ""
           }
          },
          "scene": {
           "xaxis": {
            "backgroundcolor": "#E5ECF6",
            "gridcolor": "white",
            "gridwidth": 2,
            "linecolor": "white",
            "showbackground": true,
            "ticks": "",
            "zerolinecolor": "white"
           },
           "yaxis": {
            "backgroundcolor": "#E5ECF6",
            "gridcolor": "white",
            "gridwidth": 2,
            "linecolor": "white",
            "showbackground": true,
            "ticks": "",
            "zerolinecolor": "white"
           },
           "zaxis": {
            "backgroundcolor": "#E5ECF6",
            "gridcolor": "white",
            "gridwidth": 2,
            "linecolor": "white",
            "showbackground": true,
            "ticks": "",
            "zerolinecolor": "white"
           }
          },
          "shapedefaults": {
           "line": {
            "color": "#2a3f5f"
           }
          },
          "ternary": {
           "aaxis": {
            "gridcolor": "white",
            "linecolor": "white",
            "ticks": ""
           },
           "baxis": {
            "gridcolor": "white",
            "linecolor": "white",
            "ticks": ""
           },
           "bgcolor": "#E5ECF6",
           "caxis": {
            "gridcolor": "white",
            "linecolor": "white",
            "ticks": ""
           }
          },
          "title": {
           "x": 0.05
          },
          "xaxis": {
           "automargin": true,
           "gridcolor": "white",
           "linecolor": "white",
           "ticks": "",
           "title": {
            "standoff": 15
           },
           "zerolinecolor": "white",
           "zerolinewidth": 2
          },
          "yaxis": {
           "automargin": true,
           "gridcolor": "white",
           "linecolor": "white",
           "ticks": "",
           "title": {
            "standoff": 15
           },
           "zerolinecolor": "white",
           "zerolinewidth": 2
          }
         }
        },
        "title": {
         "text": "Vindhastighet over årene"
        },
        "xaxis": {
         "title": {
          "text": "År"
         }
        },
        "yaxis": {
         "title": {
          "text": "Vindhastighet (m/s)"
         }
        }
       }
      }
     },
     "metadata": {},
     "output_type": "display_data"
    }
   ],
   "source": [
    "visualizer.plot_yearly_wind_stats()"
   ]
  },
  {
   "cell_type": "markdown",
   "metadata": {},
   "source": [
    "### Heatmap\n",
    " Visualiseringen viser gjennomsnittlig maksimumstemperatur for hver måned og hvert år. Den gir et visuelt overblikk over temperaturtrender og sesongvariasjoner gjennom perioden 2014–2024. Varme farger indikerer høyere temperaturer, mens kjøligere farger viser lavere verdier – nyttig for å identifisere varme somre eller milde vintre."
   ]
  },
  {
   "cell_type": "code",
   "execution_count": 9,
   "metadata": {},
   "outputs": [
    {
     "data": {
      "image/png": "[encoded data removed]",
      "text/plain": [
       "<Figure size 1000x600 with 2 Axes>"
      ]
     },
     "metadata": {},
     "output_type": "display_data"
    }
   ],
   "source": [
    "visualizer.plot_temperature_heatmap()"
   ]
  },
  {
   "cell_type": "markdown",
   "metadata": {},
   "source": [
    "### Ekstremvær\n",
    "Denne grafen viser årlige forekomster av ekstremvær, fordelt på ulike værtyper som høy temperatur, lave temperaturer, nedbør, snø og sterke vindkast. Dette kan være nyttig for å identifisere klimatisk utvikling eller perioder med unormalt vær."
   ]
  },
  {
   "cell_type": "code",
   "execution_count": 10,
   "metadata": {},
   "outputs": [
    {
     "data": {
      "application/vnd.plotly.v1+json": {
       "config": {
        "plotlyServerURL": "https://plot.ly"
       },
       "data": [
        {
         "hovertemplate": "variable=Makstemp<br>Tid=%{x}<br>value=%{y}<extra></extra>",
         "legendgroup": "Makstemp",
         "marker": {
          "color": "#636efa",
          "pattern": {
           "shape": ""
          }
         },
         "name": "Makstemp",
         "orientation": "v",
         "showlegend": true,
         "textposition": "auto",
         "type": "bar",
         "x": {
          "bdata": "3gcAAN8HAADgBwAA4QcAAOIHAADjBwAA5AcAAOUHAADmBwAA5wcAAOgHAAA=",
          "dtype": "i4"
         },
         "xaxis": "x",
         "y": {
          "bdata": "HAUMBDgRGhgQEg8=",
          "dtype": "i1"
         },
         "yaxis": "y"
        },
        {
         "hovertemplate": "variable=Mintemp<br>Tid=%{x}<br>value=%{y}<extra></extra>",
         "legendgroup": "Mintemp",
         "marker": {
          "color": "#EF553B",
          "pattern": {
           "shape": ""
          }
         },
         "name": "Mintemp",
         "orientation": "v",
         "showlegend": true,
         "textposition": "auto",
         "type": "bar",
         "x": {
          "bdata": "3gcAAN8HAADgBwAA4QcAAOIHAADjBwAA5AcAAOUHAADmBwAA5wcAAOgHAAA=",
          "dtype": "i4"
         },
         "xaxis": "x",
         "y": {
          "bdata": "AAAAAAECAAAAAAA=",
          "dtype": "i1"
         },
         "yaxis": "y"
        },
        {
         "hovertemplate": "variable=Snø<br>Tid=%{x}<br>value=%{y}<extra></extra>",
         "legendgroup": "Snø",
         "marker": {
          "color": "#00cc96",
          "pattern": {
           "shape": ""
          }
         },
         "name": "Snø",
         "orientation": "v",
         "showlegend": true,
         "textposition": "auto",
         "type": "bar",
         "x": {
          "bdata": "3gcAAN8HAADgBwAA4QcAAOIHAADjBwAA5AcAAOUHAADmBwAA5wcAAOgHAAA=",
          "dtype": "i4"
         },
         "xaxis": "x",
         "y": {
          "bdata": "AQAAAFQUAAAABzc=",
          "dtype": "i1"
         },
         "yaxis": "y"
        },
        {
         "hovertemplate": "variable=Nedbør<br>Tid=%{x}<br>value=%{y}<extra></extra>",
         "legendgroup": "Nedbør",
         "marker": {
          "color": "#ab63fa",
          "pattern": {
           "shape": ""
          }
         },
         "name": "Nedbør",
         "orientation": "v",
         "showlegend": true,
         "textposition": "auto",
         "type": "bar",
         "x": {
          "bdata": "3gcAAN8HAADgBwAA4QcAAOIHAADjBwAA5AcAAOUHAADmBwAA5wcAAOgHAAA=",
          "dtype": "i4"
         },
         "xaxis": "x",
         "y": {
          "bdata": "BQcEBgUHDgQGCQY=",
          "dtype": "i1"
         },
         "yaxis": "y"
        },
        {
         "hovertemplate": "variable=Høye vindkast<br>Tid=%{x}<br>value=%{y}<extra></extra>",
         "legendgroup": "Høye vindkast",
         "marker": {
          "color": "#FFA15A",
          "pattern": {
           "shape": ""
          }
         },
         "name": "Høye vindkast",
         "orientation": "v",
         "showlegend": true,
         "textposition": "auto",
         "type": "bar",
         "x": {
          "bdata": "3gcAAN8HAADgBwAA4QcAAOIHAADjBwAA5AcAAOUHAADmBwAA5wcAAOgHAAA=",
          "dtype": "i4"
         },
         "xaxis": "x",
         "y": {
          "bdata": "T0xWRkJPUjw6Ojo=",
          "dtype": "i1"
         },
         "yaxis": "y"
        }
       ],
       "layout": {
        "barmode": "relative",
        "legend": {
         "title": {
          "text": "variable"
         },
         "tracegroupgap": 0
        },
        "template": {
         "data": {
          "bar": [
           {
            "error_x": {
             "color": "#2a3f5f"
            },
            "error_y": {
             "color": "#2a3f5f"
            },
            "marker": {
             "line": {
              "color": "#E5ECF6",
              "width": 0.5
             },
             "pattern": {
              "fillmode": "overlay",
              "size": 10,
              "solidity": 0.2
             }
            },
            "type": "bar"
           }
          ],
          "barpolar": [
           {
            "marker": {
             "line": {
              "color": "#E5ECF6",
              "width": 0.5
             },
             "pattern": {
              "fillmode": "overlay",
              "size": 10,
              "solidity": 0.2
             }
            },
            "type": "barpolar"
           }
          ],
          "carpet": [
           {
            "aaxis": {
             "endlinecolor": "#2a3f5f",
             "gridcolor": "white",
             "linecolor": "white",
             "minorgridcolor": "white",
             "startlinecolor": "#2a3f5f"
            },
            "baxis": {
             "endlinecolor": "#2a3f5f",
             "gridcolor": "white",
             "linecolor": "white",
             "minorgridcolor": "white",
             "startlinecolor": "#2a3f5f"
            },
            "type": "carpet"
           }
          ],
          "choropleth": [
           {
            "colorbar": {
             "outlinewidth": 0,
             "ticks": ""
            },
            "type": "choropleth"
           }
          ],
          "contour": [
           {
            "colorbar": {
             "outlinewidth": 0,
             "ticks": ""
            },
            "colorscale": [
             [
              0,
              "#0d0887"
             ],
             [
              0.1111111111111111,
              "#46039f"
             ],
             [
              0.2222222222222222,
              "#7201a8"
             ],
             [
              0.3333333333333333,
              "#9c179e"
             ],
             [
              0.4444444444444444,
              "#bd3786"
             ],
             [
              0.5555555555555556,
              "#d8576b"
             ],
             [
              0.6666666666666666,
              "#ed7953"
             ],
             [
              0.7777777777777778,
              "#fb9f3a"
             ],
             [
              0.8888888888888888,
              "#fdca26"
             ],
             [
              1,
              "#f0f921"
             ]
            ],
            "type": "contour"
           }
          ],
          "contourcarpet": [
           {
            "colorbar": {
             "outlinewidth": 0,
             "ticks": ""
            },
            "type": "contourcarpet"
           }
          ],
          "heatmap": [
           {
            "colorbar": {
             "outlinewidth": 0,
             "ticks": ""
            },
            "colorscale": [
             [
              0,
              "#0d0887"
             ],
             [
              0.1111111111111111,
              "#46039f"
             ],
             [
              0.2222222222222222,
              "#7201a8"
             ],
             [
              0.3333333333333333,
              "#9c179e"
             ],
             [
              0.4444444444444444,
              "#bd3786"
             ],
             [
              0.5555555555555556,
              "#d8576b"
             ],
             [
              0.6666666666666666,
              "#ed7953"
             ],
             [
              0.7777777777777778,
              "#fb9f3a"
             ],
             [
              0.8888888888888888,
              "#fdca26"
             ],
             [
              1,
              "#f0f921"
             ]
            ],
            "type": "heatmap"
           }
          ],
          "histogram": [
           {
            "marker": {
             "pattern": {
              "fillmode": "overlay",
              "size": 10,
              "solidity": 0.2
             }
            },
            "type": "histogram"
           }
          ],
          "histogram2d": [
           {
            "colorbar": {
             "outlinewidth": 0,
             "ticks": ""
            },
            "colorscale": [
             [
              0,
              "#0d0887"
             ],
             [
              0.1111111111111111,
              "#46039f"
             ],
             [
              0.2222222222222222,
              "#7201a8"
             ],
             [
              0.3333333333333333,
              "#9c179e"
             ],
             [
              0.4444444444444444,
              "#bd3786"
             ],
             [
              0.5555555555555556,
              "#d8576b"
             ],
             [
              0.6666666666666666,
              "#ed7953"
             ],
             [
              0.7777777777777778,
              "#fb9f3a"
             ],
             [
              0.8888888888888888,
              "#fdca26"
             ],
             [
              1,
              "#f0f921"
             ]
            ],
            "type": "histogram2d"
           }
          ],
          "histogram2dcontour": [
           {
            "colorbar": {
             "outlinewidth": 0,
             "ticks": ""
            },
            "colorscale": [
             [
              0,
              "#0d0887"
             ],
             [
              0.1111111111111111,
              "#46039f"
             ],
             [
              0.2222222222222222,
              "#7201a8"
             ],
             [
              0.3333333333333333,
              "#9c179e"
             ],
             [
              0.4444444444444444,
              "#bd3786"
             ],
             [
              0.5555555555555556,
              "#d8576b"
             ],
             [
              0.6666666666666666,
              "#ed7953"
             ],
             [
              0.7777777777777778,
              "#fb9f3a"
             ],
             [
              0.8888888888888888,
              "#fdca26"
             ],
             [
              1,
              "#f0f921"
             ]
            ],
            "type": "histogram2dcontour"
           }
          ],
          "mesh3d": [
           {
            "colorbar": {
             "outlinewidth": 0,
             "ticks": ""
            },
            "type": "mesh3d"
           }
          ],
          "parcoords": [
           {
            "line": {
             "colorbar": {
              "outlinewidth": 0,
              "ticks": ""
             }
            },
            "type": "parcoords"
           }
          ],
          "pie": [
           {
            "automargin": true,
            "type": "pie"
           }
          ],
          "scatter": [
           {
            "fillpattern": {
             "fillmode": "overlay",
             "size": 10,
             "solidity": 0.2
            },
            "type": "scatter"
           }
          ],
          "scatter3d": [
           {
            "line": {
             "colorbar": {
              "outlinewidth": 0,
              "ticks": ""
             }
            },
            "marker": {
             "colorbar": {
              "outlinewidth": 0,
              "ticks": ""
             }
            },
            "type": "scatter3d"
           }
          ],
          "scattercarpet": [
           {
            "marker": {
             "colorbar": {
              "outlinewidth": 0,
              "ticks": ""
             }
            },
            "type": "scattercarpet"
           }
          ],
          "scattergeo": [
           {
            "marker": {
             "colorbar": {
              "outlinewidth": 0,
              "ticks": ""
             }
            },
            "type": "scattergeo"
           }
          ],
          "scattergl": [
           {
            "marker": {
             "colorbar": {
              "outlinewidth": 0,
              "ticks": ""
             }
            },
            "type": "scattergl"
           }
          ],
          "scattermap": [
           {
            "marker": {
             "colorbar": {
              "outlinewidth": 0,
              "ticks": ""
             }
            },
            "type": "scattermap"
           }
          ],
          "scattermapbox": [
           {
            "marker": {
             "colorbar": {
              "outlinewidth": 0,
              "ticks": ""
             }
            },
            "type": "scattermapbox"
           }
          ],
          "scatterpolar": [
           {
            "marker": {
             "colorbar": {
              "outlinewidth": 0,
              "ticks": ""
             }
            },
            "type": "scatterpolar"
           }
          ],
          "scatterpolargl": [
           {
            "marker": {
             "colorbar": {
              "outlinewidth": 0,
              "ticks": ""
             }
            },
            "type": "scatterpolargl"
           }
          ],
          "scatterternary": [
           {
            "marker": {
             "colorbar": {
              "outlinewidth": 0,
              "ticks": ""
             }
            },
            "type": "scatterternary"
           }
          ],
          "surface": [
           {
            "colorbar": {
             "outlinewidth": 0,
             "ticks": ""
            },
            "colorscale": [
             [
              0,
              "#0d0887"
             ],
             [
              0.1111111111111111,
              "#46039f"
             ],
             [
              0.2222222222222222,
              "#7201a8"
             ],
             [
              0.3333333333333333,
              "#9c179e"
             ],
             [
              0.4444444444444444,
              "#bd3786"
             ],
             [
              0.5555555555555556,
              "#d8576b"
             ],
             [
              0.6666666666666666,
              "#ed7953"
             ],
             [
              0.7777777777777778,
              "#fb9f3a"
             ],
             [
              0.8888888888888888,
              "#fdca26"
             ],
             [
              1,
              "#f0f921"
             ]
            ],
            "type": "surface"
           }
          ],
          "table": [
           {
            "cells": {
             "fill": {
              "color": "#EBF0F8"
             },
             "line": {
              "color": "white"
             }
            },
            "header": {
             "fill": {
              "color": "#C8D4E3"
             },
             "line": {
              "color": "white"
             }
            },
            "type": "table"
           }
          ]
         },
         "layout": {
          "annotationdefaults": {
           "arrowcolor": "#2a3f5f",
           "arrowhead": 0,
           "arrowwidth": 1
          },
          "autotypenumbers": "strict",
          "coloraxis": {
           "colorbar": {
            "outlinewidth": 0,
            "ticks": ""
           }
          },
          "colorscale": {
           "diverging": [
            [
             0,
             "#8e0152"
            ],
            [
             0.1,
             "#c51b7d"
            ],
            [
             0.2,
             "#de77ae"
            ],
            [
             0.3,
             "#f1b6da"
            ],
            [
             0.4,
             "#fde0ef"
            ],
            [
             0.5,
             "#f7f7f7"
            ],
            [
             0.6,
             "#e6f5d0"
            ],
            [
             0.7,
             "#b8e186"
            ],
            [
             0.8,
             "#7fbc41"
            ],
            [
             0.9,
             "#4d9221"
            ],
            [
             1,
             "#276419"
            ]
           ],
           "sequential": [
            [
             0,
             "#0d0887"
            ],
            [
             0.1111111111111111,
             "#46039f"
            ],
            [
             0.2222222222222222,
             "#7201a8"
            ],
            [
             0.3333333333333333,
             "#9c179e"
            ],
            [
             0.4444444444444444,
             "#bd3786"
            ],
            [
             0.5555555555555556,
             "#d8576b"
            ],
            [
             0.6666666666666666,
             "#ed7953"
            ],
            [
             0.7777777777777778,
             "#fb9f3a"
            ],
            [
             0.8888888888888888,
             "#fdca26"
            ],
            [
             1,
             "#f0f921"
            ]
           ],
           "sequentialminus": [
            [
             0,
             "#0d0887"
            ],
            [
             0.1111111111111111,
             "#46039f"
            ],
            [
             0.2222222222222222,
             "#7201a8"
            ],
            [
             0.3333333333333333,
             "#9c179e"
            ],
            [
             0.4444444444444444,
             "#bd3786"
            ],
            [
             0.5555555555555556,
             "#d8576b"
            ],
            [
             0.6666666666666666,
             "#ed7953"
            ],
            [
             0.7777777777777778,
             "#fb9f3a"
            ],
            [
             0.8888888888888888,
             "#fdca26"
            ],
            [
             1,
             "#f0f921"
            ]
           ]
          },
          "colorway": [
           "#636efa",
           "#EF553B",
           "#00cc96",
           "#ab63fa",
           "#FFA15A",
           "#19d3f3",
           "#FF6692",
           "#B6E880",
           "#FF97FF",
           "#FECB52"
          ],
          "font": {
           "color": "#2a3f5f"
          },
          "geo": {
           "bgcolor": "white",
           "lakecolor": "white",
           "landcolor": "#E5ECF6",
           "showlakes": true,
           "showland": true,
           "subunitcolor": "white"
          },
          "hoverlabel": {
           "align": "left"
          },
          "hovermode": "closest",
          "mapbox": {
           "style": "light"
          },
          "paper_bgcolor": "white",
          "plot_bgcolor": "#E5ECF6",
          "polar": {
           "angularaxis": {
            "gridcolor": "white",
            "linecolor": "white",
            "ticks": ""
           },
           "bgcolor": "#E5ECF6",
           "radialaxis": {
            "gridcolor": "white",
            "linecolor": "white",
            "ticks": ""
           }
          },
          "scene": {
           "xaxis": {
            "backgroundcolor": "#E5ECF6",
            "gridcolor": "white",
            "gridwidth": 2,
            "linecolor": "white",
            "showbackground": true,
            "ticks": "",
            "zerolinecolor": "white"
           },
           "yaxis": {
            "backgroundcolor": "#E5ECF6",
            "gridcolor": "white",
            "gridwidth": 2,
            "linecolor": "white",
            "showbackground": true,
            "ticks": "",
            "zerolinecolor": "white"
           },
           "zaxis": {
            "backgroundcolor": "#E5ECF6",
            "gridcolor": "white",
            "gridwidth": 2,
            "linecolor": "white",
            "showbackground": true,
            "ticks": "",
            "zerolinecolor": "white"
           }
          },
          "shapedefaults": {
           "line": {
            "color": "#2a3f5f"
           }
          },
          "ternary": {
           "aaxis": {
            "gridcolor": "white",
            "linecolor": "white",
            "ticks": ""
           },
           "baxis": {
            "gridcolor": "white",
            "linecolor": "white",
            "ticks": ""
           },
           "bgcolor": "#E5ECF6",
           "caxis": {
            "gridcolor": "white",
            "linecolor": "white",
            "ticks": ""
           }
          },
          "title": {
           "x": 0.05
          },
          "xaxis": {
           "automargin": true,
           "gridcolor": "white",
           "linecolor": "white",
           "ticks": "",
           "title": {
            "standoff": 15
           },
           "zerolinecolor": "white",
           "zerolinewidth": 2
          },
          "yaxis": {
           "automargin": true,
           "gridcolor": "white",
           "linecolor": "white",
           "ticks": "",
           "title": {
            "standoff": 15
           },
           "zerolinecolor": "white",
           "zerolinewidth": 2
          }
         }
        },
        "title": {
         "text": "Tilfeller av ekstreme vær"
        },
        "xaxis": {
         "anchor": "y",
         "domain": [
          0,
          1
         ],
         "dtick": 1,
         "tickmode": "linear",
         "title": {
          "text": "Tid"
         }
        },
        "yaxis": {
         "anchor": "x",
         "domain": [
          0,
          1
         ],
         "range": [
          0,
          220
         ],
         "title": {
          "text": "value"
         }
        }
       }
      }
     },
     "metadata": {},
     "output_type": "display_data"
    }
   ],
   "source": [
    "import plotly.express as px\n",
    "# Use the class dataAnalysis to calculate the severity cases\n",
    "da = DataAnalysis(df, 'Makstemp', ['Snø', 'Nedbør'], {\"Middelvind\": 20.8,\"Nedbør\": 20.0}, bin_defs)\n",
    "extreme_weather = da.years_severity().reset_index().rename(columns={'index': 'Tid'})\n",
    "\n",
    "\n",
    "visualizer.plot_extreme_weather_cases(extreme_weather)"
   ]
  }
 ],
 "metadata": {
  "kernelspec": {
   "display_name": "venv",
   "language": "python",
   "name": "python3"
  },
  "language_info": {
   "codemirror_mode": {
    "name": "ipython",
    "version": 3
   },
   "file_extension": ".py",
   "mimetype": "text/x-python",
   "name": "python",
   "nbconvert_exporter": "python",
   "pygments_lexer": "ipython3",
   "version": "3.12.4"
  }
 },
 "nbformat": 4,
 "nbformat_minor": 2
}
