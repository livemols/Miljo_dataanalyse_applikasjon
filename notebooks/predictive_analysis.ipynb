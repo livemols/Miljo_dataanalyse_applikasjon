{
 "cells": [
  {
   "cell_type": "markdown",
   "id": "1f15003b",
   "metadata": {},
   "source": [
    "# Prediktiv analyse\n",
    "Formålet med predikativ analyse er å finne trender for å kunne prediktere fremtidige resultater. Dette gjør man ved å implementere regresjon.\n",
    "\n",
    "Første steg er å forberede dataene ved å identifisere relevante fukjoner og målvariabler. Man må også håndteere mangdlende verdier og se hvordan det kan påvirke modellenes nøyaktighet. \n",
    "\n",
    "Andre steg er å trene regresjonsmodellen på de rensede dataene og evaluere ytelsen. \n"
   ]
  },
  {
   "cell_type": "markdown",
   "id": "be70d12e",
   "metadata": {},
   "source": [
    "##### Manglende verdier\n",
    "Forbreding og rensing av dataen er allerede en stor del av oppgaven. Datasettet er defor allerede veldig rent og vi har allerede definerte metoder på hvordan vi skal rense et datasett. For da å se nærmere på akuratt hvordan manglende data blir håndtert og hvordan det påvirker videre resultater kan man derfor se på spesifike verdier. \n",
    "\n",
    "Vi kan se på to forskjellige data punkt, middeltemp og nedbør.\n",
    "Det første vi ser på er data som følger en relativt fin trend. Middeltemperatur fra januar til sommeren skal ha en trend hvor det blir varmere mot sommeren. Her tar man utgangspunkt i starten av datasettet, altså 2014.\n"
   ]
  },
  {
   "cell_type": "code",
   "execution_count": null,
   "id": "775918ad",
   "metadata": {},
   "outputs": [
    {
     "name": "stdout",
     "output_type": "stream",
     "text": [
      "                Navn  Stasjon         Tid  Makstemp  Mintemp  Middeltemp  Snø  \\\n",
      "0    Oslo - Blindern  SN18700  2014-01-01       5.1      2.0         3.4  0.0   \n",
      "1    Oslo - Blindern  SN18700  2014-01-02       3.5      1.6         2.7  0.0   \n",
      "2    Oslo - Blindern  SN18700  2014-01-03       5.7      2.2         4.2  0.0   \n",
      "3    Oslo - Blindern  SN18700  2014-01-04       6.0      3.2         NaN  0.0   \n",
      "4    Oslo - Blindern  SN18700  2014-01-05       5.7      2.7         3.7  0.0   \n",
      "..               ...      ...         ...       ...      ...         ...  ...   \n",
      "195  Oslo - Blindern  SN18700  2014-07-15      23.5     13.1        17.8  0.0   \n",
      "196  Oslo - Blindern  SN18700  2014-07-16      27.1     12.8         NaN  0.0   \n",
      "197  Oslo - Blindern  SN18700  2014-07-17      22.5     14.1         NaN  0.0   \n",
      "198  Oslo - Blindern  SN18700  2014-07-18      25.2     10.9        18.5  0.0   \n",
      "199  Oslo - Blindern  SN18700  2014-07-19      26.9     13.6         NaN  0.0   \n",
      "\n",
      "     Nedbør  Middelvind  Høye vindkast  \n",
      "0       0.0         2.4            5.8  \n",
      "1       2.5         2.9            5.7  \n",
      "2      10.2         3.3            6.4  \n",
      "3       NaN         2.6            6.8  \n",
      "4       0.5         2.7            5.0  \n",
      "..      ...         ...            ...  \n",
      "195     0.9         2.4            4.9  \n",
      "196     NaN         2.3            4.7  \n",
      "197     0.0         2.5            5.0  \n",
      "198     6.0         1.6            3.7  \n",
      "199     0.0         2.1            4.6  \n",
      "\n",
      "[200 rows x 10 columns]\n"
     ]
    },
    {
     "name": "stderr",
     "output_type": "stream",
     "text": [
      "C:\\Users\\livem\\AppData\\Local\\Temp\\ipykernel_15848\\2923454762.py:17: SettingWithCopyWarning: \n",
      "A value is trying to be set on a copy of a slice from a DataFrame.\n",
      "Try using .loc[row_indexer,col_indexer] = value instead\n",
      "\n",
      "See the caveats in the documentation: https://pandas.pydata.org/pandas-docs/stable/user_guide/indexing.html#returning-a-view-versus-a-copy\n",
      "  df_NaN[\"Middeltemp\"] = df_NaN[\"Middeltemp\"].sample(frac=0.7)\n",
      "C:\\Users\\livem\\AppData\\Local\\Temp\\ipykernel_15848\\2923454762.py:18: SettingWithCopyWarning: \n",
      "A value is trying to be set on a copy of a slice from a DataFrame.\n",
      "Try using .loc[row_indexer,col_indexer] = value instead\n",
      "\n",
      "See the caveats in the documentation: https://pandas.pydata.org/pandas-docs/stable/user_guide/indexing.html#returning-a-view-versus-a-copy\n",
      "  df_NaN[\"Nedbør\"] = df_NaN[\"Nedbør\"].sample(frac=0.7)\n"
     ]
    }
   ],
   "source": [
    "import pandas as pd\n",
    "import os\n",
    "import sys \n",
    "\n",
    "sys.path.insert(0, os.path.abspath(os.path.join(os.getcwd(), '../src')))\n",
    "\n",
    "original_file = \"blindern_data_cleaning.csv\"\n",
    "data_path = os.path.join(os.getcwd(),\"..\", \"data\")\n",
    "original_path = os.path.join(data_path, original_file)  \n",
    "df = pd.read_csv(original_path, delimiter=\";\")\n",
    "\n",
    "#relevant data\n",
    "df_data = df.head(200)\n",
    "\n",
    "#generate NaN\n",
    "df_NaN = df_data\n",
    "df_NaN[\"Middeltemp\"] = df_NaN[\"Middeltemp\"].sample(frac=0.7)\n",
    "df_NaN[\"Nedbør\"] = df_NaN[\"Nedbør\"].sample(frac=0.7)\n",
    "\n",
    "#generate fixed dataset (\n",
    "\n",
    "\n",
    "\n",
    "print(df_NaN)\n",
    "\n"
   ]
  }
 ],
 "metadata": {
  "kernelspec": {
   "display_name": "venv",
   "language": "python",
   "name": "python3"
  },
  "language_info": {
   "codemirror_mode": {
    "name": "ipython",
    "version": 3
   },
   "file_extension": ".py",
   "mimetype": "text/x-python",
   "name": "python",
   "nbconvert_exporter": "python",
   "pygments_lexer": "ipython3",
   "version": "3.12.10"
  }
 },
 "nbformat": 4,
 "nbformat_minor": 5
}
