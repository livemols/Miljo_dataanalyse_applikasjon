{
 "cells": [
  {
   "cell_type": "markdown",
   "metadata": {},
   "source": [
    "# Data rensing\n",
    "\n",
    "**data_understanding.ipynb** gir et inntrykk av at datasettet fra Norsk Klimaservicesenter (KSS) inneholder noen manglende verdier spesielt for \"snø\", og har ellers en liten andel av duplikater og et lite standardavvik. Altså kan rensing av data virke noe overflødig. For å vise intuisjonen til data rensing, vil både det originale datasettet (blindern.csv) og en modifisert versjon av originalen fra KSS bli renset. Det modifiserte datasettet vil bli kalt **blindern_dirty_data_generator.csv** og vil ha en større andel av feil og mangler i datasettet i motsetning til hva originalen hadde.\n",
    "\n",
    "\n",
    "### Rensing av blindern.csv"
   ]
  },
  {
   "cell_type": "code",
   "execution_count": 1,
   "metadata": {},
   "outputs": [
    {
     "name": "stdout",
     "output_type": "stream",
     "text": [
      "Filene er slått sammen\n"
     ]
    }
   ],
   "source": [
    "import pandas as pd\n",
    "import numpy as np\n",
    "import sys\n",
    "import os\n",
    "\n",
    "sys.path.insert(0, os.path.abspath(os.path.join(os.getcwd(), '../src')))\n",
    "\n",
    "from data_preparation.make_data_files import MakeDataFiles\n",
    "\n",
    "mdf = MakeDataFiles()\n",
    "\n",
    "mdf.combine_files()"
   ]
  },
  {
   "cell_type": "code",
   "execution_count": 2,
   "metadata": {},
   "outputs": [
    {
     "name": "stdout",
     "output_type": "stream",
     "text": [
      "Modified CSV file saved as: c:\\Users\\livem\\OneDrive - NTNU\\Dokumenter\\Andvendt programmering\\Miljo_dataanalyse_applikasjon\\src\\data_preparation\\..\\..\\data\\blindern_dirty_data_generator.csv\n"
     ]
    }
   ],
   "source": [
    "mdf.make_dirty_data()"
   ]
  },
  {
   "cell_type": "code",
   "execution_count": 3,
   "metadata": {},
   "outputs": [
    {
     "name": "stdout",
     "output_type": "stream",
     "text": [
      "Modified CSV file saved as: c:\\Users\\livem\\OneDrive - NTNU\\Dokumenter\\Andvendt programmering\\Miljo_dataanalyse_applikasjon\\notebooks\\..\\data\\blindern_data_cleaning.csv\n"
     ]
    }
   ],
   "source": [
    "mdf.clean_file()\n"
   ]
  },
  {
   "cell_type": "code",
   "execution_count": 4,
   "metadata": {},
   "outputs": [
    {
     "name": "stdout",
     "output_type": "stream",
     "text": [
      "Modified CSV file saved as: c:\\Users\\livem\\OneDrive - NTNU\\Dokumenter\\Andvendt programmering\\Miljo_dataanalyse_applikasjon\\notebooks\\..\\data\\blindern_dirty_data_cleaning.csv\n"
     ]
    }
   ],
   "source": [
    "mdf.clean_file(\"blindern_dirty_data_generator.csv\",\"blindern_dirty_data_cleaning.csv\")"
   ]
  }
 ],
 "metadata": {
  "kernelspec": {
   "display_name": "venv",
   "language": "python",
   "name": "python3"
  },
  "language_info": {
   "codemirror_mode": {
    "name": "ipython",
    "version": 3
   },
   "file_extension": ".py",
   "mimetype": "text/x-python",
   "name": "python",
   "nbconvert_exporter": "python",
   "pygments_lexer": "ipython3",
   "version": "3.12.10"
  }
 },
 "nbformat": 4,
 "nbformat_minor": 2
}
