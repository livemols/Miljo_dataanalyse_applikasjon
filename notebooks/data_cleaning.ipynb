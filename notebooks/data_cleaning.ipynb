{
 "cells": [
  {
   "cell_type": "markdown",
   "metadata": {},
   "source": [
    "# Data cleaning\n",
    "\n",
    "**data_understanding.ipynb** gir et inntrykk av at datasettet fra Norsk Klimaservicesenter (KSS) inneholder noen manglende verdier spesielt for \"snø\", og har ellers en liten andel av duplikater og et lite standardavvik. Altså kan rensing av data virke noe overflødig. For å vise intuisjonen til data rensing, vil både det orginale datasettet (blindern.csv) og en modifisert versjon av orginalen fra KSS bli renset. Det modifiserte datasettet vil bli kalt **blindern_dirty_data_generator.csv** og vil ha en større andel av feil og mangler i datasettet i motsetning til hva orginalen hadde.\n",
    "\n",
    "\n",
    "### Rensing av blindern.csv"
   ]
  },
  {
   "cell_type": "code",
   "execution_count": 3,
   "metadata": {},
   "outputs": [
    {
     "name": "stdout",
     "output_type": "stream",
     "text": [
      "Modified CSV file saved as: c:\\Users\\livem\\OneDrive - NTNU\\Dokumenter\\Andvendt programmering\\Miljo_dataanalyse_applikasjon\\notebooks\\..\\data\\blindern_data_cleaning.csv\n"
     ]
    }
   ],
   "source": [
    "import pandas as pd\n",
    "import numpy as np\n",
    "import sys\n",
    "import os\n",
    "\n",
    "sys.path.insert(0, os.path.abspath(os.path.join(os.getcwd(), '../src')))\n",
    "\n",
    "from data_preparation.data_cleaning import DataCleaning\n",
    "\n",
    "# Original file - \"blindern.csv\"\n",
    "\n",
    "original_file = \"blindern.csv\"\n",
    "data_path = os.path.join(os.getcwd(),\"..\", \"data\")\n",
    "original_path = os.path.join(data_path, original_file)  \n",
    "df = pd.read_csv(original_path, delimiter=\";\")\n",
    "data_cleaner = DataCleaning(df)\n",
    "\n",
    "modified_file_original = os.path.join(data_path, \"blindern_data_cleaning.csv\")  \n",
    "\n",
    "# Cleaning original file\n",
    "df = data_cleaner.form().duplicates().missing().outliers().replacing().df\n",
    "\n",
    "# Save the modified DataFrame as a new CSV file in the same folder\n",
    "df.to_csv(modified_file_original, index=False, sep=\";\")  # Keep the same delimiter (;)\n",
    "\n",
    "print(f\"Modified CSV file saved as: {modified_file_original}\")"
   ]
  },
  {
   "cell_type": "markdown",
   "metadata": {},
   "source": [
    "### Rensing av blindern_dirty_data_generator.csv"
   ]
  },
  {
   "cell_type": "code",
   "execution_count": 4,
   "metadata": {},
   "outputs": [
    {
     "name": "stdout",
     "output_type": "stream",
     "text": [
      "Modified CSV file saved as: c:\\Users\\livem\\OneDrive - NTNU\\Dokumenter\\Andvendt programmering\\Miljo_dataanalyse_applikasjon\\notebooks\\..\\data\\blindern_dirty_data_cleaning.csv\n"
     ]
    }
   ],
   "source": [
    "import pandas as pd\n",
    "import numpy as np\n",
    "import sys\n",
    "import os\n",
    "\n",
    "sys.path.insert(0, os.path.abspath(os.path.join(os.getcwd(), '../src')))\n",
    "\n",
    "from data_preparation.data_cleaning import DataCleaning\n",
    "\n",
    "# Dirty file - \"blindern_dirty_data_generator.csv\"\n",
    "\n",
    "dirty_file = \"blindern_dirty_data_generator.csv\"  \n",
    "data_path = os.path.join(os.getcwd(),\"..\", \"data\")\n",
    "dirty_path = os.path.join(data_path, dirty_file)\n",
    "df_dirty = pd.read_csv(dirty_path, delimiter=\";\")\n",
    "\n",
    "data_cleaner = DataCleaning(df_dirty)\n",
    "df_dirty = data_cleaner.form().duplicates().missing().outliers().replacing().df\n",
    "\n",
    "# Save the modified DataFrame as a new CSV file in the same folder\n",
    "modified_file_dirty = os.path.join(data_path, \"blindern_dirty_data_cleaning.csv\")  \n",
    "df_dirty.to_csv(modified_file_dirty, index=False, sep=\";\")  # Keep the same delimiter (;)\n",
    "\n",
    "print(f\"Modified CSV file saved as: {modified_file_dirty}\")\n"
   ]
  }
 ],
 "metadata": {
  "kernelspec": {
   "display_name": "venv",
   "language": "python",
   "name": "python3"
  },
  "language_info": {
   "codemirror_mode": {
    "name": "ipython",
    "version": 3
   },
   "file_extension": ".py",
   "mimetype": "text/x-python",
   "name": "python",
   "nbconvert_exporter": "python",
   "pygments_lexer": "ipython3",
   "version": "3.12.9"
  }
 },
 "nbformat": 4,
 "nbformat_minor": 2
}
