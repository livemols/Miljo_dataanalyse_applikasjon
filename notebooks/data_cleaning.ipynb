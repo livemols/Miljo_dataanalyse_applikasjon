{
 "cells": [
  {
   "cell_type": "markdown",
   "metadata": {},
   "source": [
    "# Data cleaning\n",
    "\n",
    "**data_understanding.ipynb** gir et inntrykk av at datasettet fra Norsk Klimaservicesenter (KSS) inneholder noen manglende verdier spesielt for \"snø\", og har ellers en liten andel av duplikater og et lite standardavvik. Altså kan rensing av data virke noe overflødig. For å vise intuisjonen til data rensing, vil både det orginale datasettet (blindern.csv) og en modifisert versjon av orginalen fra KSS bli renset. Det modifiserte datasettet vil bli kalt **blindern_dirty_data_generator.csv** og vil ha en større andel av feil og mangler i datasettet i motsetning til hva orginalen hadde.\n",
    "\n",
    "\n",
    "### Rensing av blindern.csv"
   ]
  },
  {
   "cell_type": "code",
   "execution_count": null,
   "metadata": {},
   "outputs": [],
   "source": [
    "#Denne filen renser og behandler dataen vår\n",
    "\n",
    "import pandas as pd\n",
    "import os\n",
    "import numpy as np\n",
    "\n",
    "# Finn absolutt sti til data-mappen\n",
    "current_dir = os.path.dirname(os.path.abspath(__file__))  # Finner mappen der testnat.py er\n",
    "data_path = os.path.join(current_dir,\"..\", \"data\")  # Går én mappe opp, deretter inn i data/\n",
    "\n",
    "# Spesifiser filnavnet\n",
    "filename = \"blindern.csv\"  \n",
    "\n",
    "# Lag full sti til filen\n",
    "original_file = os.path.join(data_path, filename)\n",
    "modified_file = os.path.join(data_path, \"blindern_data_cleaning.csv\")  \n",
    "\n",
    "# Read the original CSV file\n",
    "df = pd.read_csv(original_file, delimiter=\";\")\n",
    "\n",
    "# Apply modifications\n",
    "df.columns = [\"Navn\", \"Stasjon\", \"Tid\", \"Makstemp\", \"Mintemp\", \"Nedbør\", \"Vind\", \"Snø\"]\n",
    "df[\"Tid\"] = pd.to_datetime(df[\"Tid\"], format=\"%d.%m.%Y\")\n",
    "\n",
    "# Convert columns to numeric\n",
    "df[[\"Makstemp\", \"Mintemp\", \"Nedbør\", \"Vind\", \"Snø\"]] = df[[\"Makstemp\", \"Mintemp\", \"Nedbør\", \"Vind\", \"Snø\"]].apply(pd.to_numeric, errors='coerce')\n",
    "\n",
    "#Delete duplitcates (rows)\n",
    "df.drop_duplicates(inplace = True)\n",
    "\n",
    "\n",
    "#Behandler manglende data ved interpolate\n",
    "#Endrer alle mising value \"-\" til Nan og deretter bruker interpolate\n",
    "df = df.replace(\"-\", np.nan) \n",
    "\n",
    "df=df.round(1)\n",
    "\n",
    "\n",
    "\n",
    "\n",
    "# Outlier removal\n",
    "\n",
    "threshold = 3\n",
    "\n",
    "for column in df.select_dtypes(include=['number']).columns:\n",
    "    mean = df[column].mean()\n",
    "    std = df[column].std()\n",
    "    lower_limit = mean - threshold * std\n",
    "    upper_limit = mean + threshold * std\n",
    "\n",
    "    # \".where\" for å beholde NaN i stedet for å fjerne verdier helt\n",
    "    df[column] = df[column].where(df[column].between(lower_limit, upper_limit))\n",
    "\n",
    "\n",
    "# Time series data processing + missing data\n",
    "\n",
    "for column in df.select_dtypes(include=['number']).columns:\n",
    "    if column in [\"Makstemp\", \"Mintemp\"]:\n",
    "        df[column] = df[column].interpolate(method='polynomial', order=2).round(1)\n",
    "    if column in [\"Nedbør\", \"Vind\", \"Snø\"]:\n",
    "        df[column] = df[column].interpolate(method='linear').round(1)\n",
    "        df[column] = df[column].clip(lower = 0)\n",
    "        \n",
    "\n",
    "\n",
    "# Save the modified DataFrame as a new CSV file in the same folder\n",
    "df.to_csv(modified_file, index=False, sep=\";\")  # Keep the same delimiter (;)\n",
    "\n",
    "print(f\"Modified CSV file saved as: {modified_file}\")\n",
    "\n"
   ]
  },
  {
   "cell_type": "markdown",
   "metadata": {},
   "source": [
    "### Rensing av blindern_dirty_data_generator.csv"
   ]
  },
  {
   "cell_type": "markdown",
   "metadata": {},
   "source": []
  }
 ],
 "metadata": {
  "kernelspec": {
   "display_name": "venv",
   "language": "python",
   "name": "python3"
  },
  "language_info": {
   "name": "python",
   "version": "3.13.1"
  }
 },
 "nbformat": 4,
 "nbformat_minor": 2
}
