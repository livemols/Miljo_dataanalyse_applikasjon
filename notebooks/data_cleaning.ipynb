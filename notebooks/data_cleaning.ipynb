{
 "cells": [
  {
   "cell_type": "markdown",
   "metadata": {},
   "source": [
    "# Data rensing\n",
    "\n",
    "**data_understanding.ipynb** gir et inntrykk av at datasettet fra Norsk Klimaservicesenter (KSS) inneholder noen manglende verdier spesielt for \"snø\", og har ellers en liten andel av duplikater og et lite standardavvik. Altså kan rensing av data virke noe overflødig. For å vise intuisjonen til data rensing, vil både det originale datasettet (blindern.csv) og en modifisert versjon av originalen fra KSS bli renset. Det modifiserte datasettet vil bli kalt **blindern_dirty_data_generator.csv** og vil ha en større andel av feil og mangler i datasettet i motsetning til hva originalen hadde.\n",
    "\n",
    "\n"
   ]
  },
  {
   "cell_type": "markdown",
   "metadata": {},
   "source": [
    "### Kombinering av flere datasett\n",
    "Nettsiden Norsk Klimaservicesenter tillater nedlasting av fem kolonner per cvs file, som var færre enn vi trengte. Siden vi trengte både data fra weather.cvs og wind.cvs, har vi slått de sammen til en cvs-fil som heter blindern.cvs under mappen data. Metoden .combine_file slår sammen to datasett."
   ]
  },
  {
   "cell_type": "code",
   "execution_count": 2,
   "metadata": {},
   "outputs": [
    {
     "name": "stdout",
     "output_type": "stream",
     "text": [
      "Filene er slått sammen\n"
     ]
    }
   ],
   "source": [
    "\n",
    "import pandas as pd\n",
    "import numpy as np\n",
    "import sys\n",
    "import os\n",
    "#gets classes from make_data_files.py\n",
    "sys.path.insert(0, os.path.abspath(os.path.join(os.getcwd(), '../src')))\n",
    "\n",
    "from data_preparation.make_data_files import MakeDataFiles\n",
    "\n",
    "mdf = MakeDataFiles()\n",
    "\n",
    "mdf.combine_files()"
   ]
  },
  {
   "cell_type": "markdown",
   "metadata": {},
   "source": [
    "### Rensing av rådata\n",
    "Metoden .clean_file() renser data ved å fjerne duplikater, outliers og manglende verdier. Vi endrer også navn på kolonnene for bedre oversikt og brukte interpolate for manglende verdier. I vårt datasett var det en spesifik kolonne, \"Snø\"-kolonnen som hadde manglende verdier. Ved interpolate ble de manglende verdien fyllt med gjennomsnittet av de nærmeste snøverdiene, som gir mest mening i vårt tilfelle. En skal tro at snødybden ikke endrer seg dratisk fra dag til dag, og andre metoder ga oss urealistiske tall, som feks. 0.20 cm snø på en sommerdag. "
   ]
  },
  {
   "cell_type": "code",
   "execution_count": 3,
   "metadata": {},
   "outputs": [
    {
     "name": "stdout",
     "output_type": "stream",
     "text": [
      "Modified CSV file saved as: c:\\Users\\Tai khoan chung\\OneDrive - NTNU\\Anvendt prog\\Mappe innlevering\\Miljo_dataanalyse_applikasjon\\notebooks\\..\\data\\blindern_data_cleaning.csv\n"
     ]
    }
   ],
   "source": [
    "mdf.clean_file()"
   ]
  },
  {
   "cell_type": "markdown",
   "metadata": {},
   "source": [
    "### Skitten data\n",
    "Datasettet fra Norsk Klimaservicesenter hadde få \"feil\" som duplikater, outliers og manglende verdier. Det var noen manglende verdier innenfor en spesifik kolonne, som gikk fort å rense. For å sikre oss og vise at rensingen vår fungerer godt, har vi lagd en \"skitten\" versjon av datasettet vårt. Den blir opprettet som \"blindern_dirty_data_generator\" under mappen data, der vi har erstattes 30% (justerbar) av tilfeldige celler med outliers, duplikater og manglende verdier merket som \"-\". Metoden .make_dirty_data() oppretter \"blindern_dirty_data_generator\" med feilene, mens metoden .clean_file() renser denne skittne filen og lagre det til en ny cvs-fil \"blindern_dirty_data_cleaning.csv\", i samme mappen. "
   ]
  },
  {
   "cell_type": "code",
   "execution_count": null,
   "metadata": {},
   "outputs": [
    {
     "name": "stdout",
     "output_type": "stream",
     "text": [
      "Modified CSV file saved as: c:\\Users\\livem\\OneDrive - NTNU\\Dokumenter\\Andvendt programmering\\Miljo_dataanalyse_applikasjon\\src\\data_preparation\\..\\..\\data\\blindern_dirty_data_generator.csv\n"
     ]
    }
   ],
   "source": [
    "#opprettter en skitten datasett\n",
    "mdf.make_dirty_data()"
   ]
  },
  {
   "cell_type": "code",
   "execution_count": null,
   "metadata": {},
   "outputs": [
    {
     "name": "stdout",
     "output_type": "stream",
     "text": [
      "Modified CSV file saved as: c:\\Users\\Tai khoan chung\\OneDrive - NTNU\\Anvendt prog\\Mappe innlevering\\Miljo_dataanalyse_applikasjon\\notebooks\\..\\data\\blindern_dirty_data_cleaning.csv\n"
     ]
    }
   ],
   "source": [
    "#renser og lagrer det skittne datasettet i en ny fil\n",
    "mdf.clean_file(\"blindern_dirty_data_generator.csv\",\"blindern_dirty_data_cleaning.csv\")"
   ]
  }
 ],
 "metadata": {
  "kernelspec": {
   "display_name": "venv",
   "language": "python",
   "name": "python3"
  },
  "language_info": {
   "codemirror_mode": {
    "name": "ipython",
    "version": 3
   },
   "file_extension": ".py",
   "mimetype": "text/x-python",
   "name": "python",
   "nbconvert_exporter": "python",
   "pygments_lexer": "ipython3",
   "version": "3.12.4"
  }
 },
 "nbformat": 4,
 "nbformat_minor": 2
}
