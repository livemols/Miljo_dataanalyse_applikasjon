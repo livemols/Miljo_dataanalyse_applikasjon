{
 "cells": [
  {
   "cell_type": "code",
   "execution_count": null,
   "metadata": {},
   "outputs": [],
   "source": [
    "# import\n"
   ]
  },
  {
   "cell_type": "code",
   "execution_count": null,
   "metadata": {},
   "outputs": [],
   "source": [
    "# calculate the average, median and  for each columm\n",
    "print(f\"The average for each column is:\\n{df.mean()}\")\n",
    "print(f\"The median for each column is:\\n{df.median()}\")\n",
    "print(f\"The standard deviation for each column is:\\n{df.std()}\")\n",
    "\n",
    "# calculate the seasonal average, median and  for each columm\n",
    "def season(dato):\n",
    "    month=dato.month\n",
    "    if month in [12,1,2]:\n",
    "        return \"Winter\"\n",
    "    elif month in [3,4,5]:\n",
    "        return \"Spring\"\n",
    "    elif month in [6,7,8]:\n",
    "        return \"Summer\"\n",
    "    else:\n",
    "        return \"Autumn\"\n",
    "\n",
    "df['season'] = df['dato'].apply(season)\n",
    "print(f\"The average for each season is:\\n{df.groupby('season').mean()}\")\n",
    "print(f\"The median for each season is:\\n{df.groupby('season').median()}\")\n",
    "print(f\"The standard deviation for each season is:\\n{df.groupby('season').std()}\")\n",
    "\n",
    "\n"
   ]
  },
  {
   "cell_type": "code",
   "execution_count": null,
   "metadata": {},
   "outputs": [],
   "source": []
  }
 ],
 "metadata": {
  "language_info": {
   "name": "python"
  }
 },
 "nbformat": 4,
 "nbformat_minor": 2
}
