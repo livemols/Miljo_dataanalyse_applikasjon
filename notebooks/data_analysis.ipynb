{
 "cells": [
  {
   "cell_type": "code",
   "execution_count": 21,
   "metadata": {},
   "outputs": [
    {
     "name": "stdout",
     "output_type": "stream",
     "text": [
      "The average for each column is:\n",
      "Makstemp         11.602115\n",
      "Mintemp           4.153036\n",
      "Middeltemp        7.617745\n",
      "Snø               3.974116\n",
      "Nedbør            2.423843\n",
      "Middelvind        2.703982\n",
      "Høye vindkast     5.564012\n",
      "dtype: float64\n",
      "The median for each column is:\n",
      "Makstemp         11.4\n",
      "Mintemp           3.6\n",
      "Middeltemp        7.1\n",
      "Snø               0.0\n",
      "Nedbør            0.1\n",
      "Middelvind        2.5\n",
      "Høye vindkast     5.2\n",
      "dtype: float64\n",
      "The standard deviation for each column is:\n",
      "Makstemp         9.050974\n",
      "Mintemp          7.244604\n",
      "Middeltemp       7.855064\n",
      "Snø              9.927656\n",
      "Nedbør           5.256624\n",
      "Middelvind       1.134572\n",
      "Høye vindkast    2.226089\n",
      "dtype: float64\n",
      "The average for each season is:\n",
      "Empty DataFrame\n",
      "Columns: [Makstemp, Mintemp, Middeltemp, Snø, Nedbør, Middelvind, Høye vindkast]\n",
      "Index: []\n",
      "The median for each season is:\n",
      "Empty DataFrame\n",
      "Columns: [Makstemp, Mintemp, Middeltemp, Snø, Nedbør, Middelvind, Høye vindkast]\n",
      "Index: []\n",
      "The standard deviation for each season is:\n",
      "Empty DataFrame\n",
      "Columns: [Makstemp, Mintemp, Middeltemp, Snø, Nedbør, Middelvind, Høye vindkast]\n",
      "Index: []\n"
     ]
    }
   ],
   "source": [
    "import pandas as pd\n",
    "import numpy as np\n",
    "import os\n",
    "import sys \n",
    "\n",
    "sys.path.insert(0, os.path.abspath(os.path.join(os.getcwd(), '../src')))\n",
    "\n",
    "original_file = \"blindern_data_cleaning.csv\"\n",
    "data_path = os.path.join(os.getcwd(),\"..\", \"data\")\n",
    "original_path = os.path.join(data_path, original_file)  \n",
    "df = pd.read_csv(original_path, delimiter=\";\")\n",
    "\n",
    "df['Tid'] = pd.to_datetime(df['Tid'], format=\"%Y.%m.%d\", errors='coerce')\n",
    "\n",
    "\n",
    "# calculate the average, median and standard deviation for each column\n",
    "print(f\"The average for each column is:\\n{df.mean(numeric_only=True)}\")\n",
    "print(f\"The median for each column is:\\n{df.median(numeric_only=True)}\")\n",
    "print(f\"The standard deviation for each column is:\\n{df.std(numeric_only=True)}\")\n",
    "\n",
    "# calculate the seasonal average, median and standard deviation for each column\n",
    "def season(dato):\n",
    "    month=dato.month\n",
    "    if month in [12,1,2]:\n",
    "        return \"Winter\"\n",
    "    elif month in [3,4,5]:\n",
    "        return \"Spring\"\n",
    "    elif month in [6,7,8]:\n",
    "        return \"Summer\"\n",
    "    elif month in [9,10,11]:\n",
    "        return \"Autumn\"\n",
    "\n",
    "df['season'] = df['Tid'].apply(season)\n",
    "print(f\"The average for each season is:\\n{df.groupby('season').mean(numeric_only=True)}\")\n",
    "print(f\"The median for each season is:\\n{df.groupby('season').median(numeric_only=True)}\")\n",
    "print(f\"The standard deviation for each season is:\\n{df.groupby('season').std(numeric_only=True)}\")\n",
    "\n",
    "\n"
   ]
  },
  {
   "cell_type": "code",
   "execution_count": null,
   "metadata": {},
   "outputs": [],
   "source": []
  }
 ],
 "metadata": {
  "kernelspec": {
   "display_name": "venv",
   "language": "python",
   "name": "python3"
  },
  "language_info": {
   "codemirror_mode": {
    "name": "ipython",
    "version": 3
   },
   "file_extension": ".py",
   "mimetype": "text/x-python",
   "name": "python",
   "nbconvert_exporter": "python",
   "pygments_lexer": "ipython3",
   "version": "3.12.9"
  }
 },
 "nbformat": 4,
 "nbformat_minor": 2
}
