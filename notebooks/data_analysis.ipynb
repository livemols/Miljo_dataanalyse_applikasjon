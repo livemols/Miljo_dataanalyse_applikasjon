{
 "cells": [
  {
   "cell_type": "code",
   "execution_count": 9,
   "metadata": {},
   "outputs": [
    {
     "name": "stdout",
     "output_type": "stream",
     "text": [
      "The average for each column is:\n",
      "Makstemp         11.602115\n",
      "Mintemp           4.153036\n",
      "Middeltemp        7.617745\n",
      "Snø               3.974116\n",
      "Nedbør            2.423843\n",
      "Middelvind        2.703982\n",
      "Høye vindkast     5.564012\n",
      "dtype: float64\n",
      "The median for each column is:\n",
      "Makstemp         11.4\n",
      "Mintemp           3.6\n",
      "Middeltemp        7.1\n",
      "Snø               0.0\n",
      "Nedbør            0.1\n",
      "Middelvind        2.5\n",
      "Høye vindkast     5.2\n",
      "dtype: float64\n",
      "The standard deviation for each column is:\n",
      "Makstemp         9.050974\n",
      "Mintemp          7.244604\n",
      "Middeltemp       7.855064\n",
      "Snø              9.927656\n",
      "Nedbør           5.256624\n",
      "Middelvind       1.134572\n",
      "Høye vindkast    2.226089\n",
      "dtype: float64\n"
     ]
    },
    {
     "ename": "AttributeError",
     "evalue": "'str' object has no attribute 'month'",
     "output_type": "error",
     "traceback": [
      "\u001b[31m---------------------------------------------------------------------------\u001b[39m",
      "\u001b[31mAttributeError\u001b[39m                            Traceback (most recent call last)",
      "\u001b[36mCell\u001b[39m\u001b[36m \u001b[39m\u001b[32mIn[9]\u001b[39m\u001b[32m, line 30\u001b[39m\n\u001b[32m     27\u001b[39m     \u001b[38;5;28;01melif\u001b[39;00m month \u001b[38;5;129;01min\u001b[39;00m [\u001b[32m9\u001b[39m,\u001b[32m10\u001b[39m,\u001b[32m11\u001b[39m]:\n\u001b[32m     28\u001b[39m         \u001b[38;5;28;01mreturn\u001b[39;00m \u001b[33m\"\u001b[39m\u001b[33mAutumn\u001b[39m\u001b[33m\"\u001b[39m\n\u001b[32m---> \u001b[39m\u001b[32m30\u001b[39m df[\u001b[33m'\u001b[39m\u001b[33mseason\u001b[39m\u001b[33m'\u001b[39m] = \u001b[43mdf\u001b[49m\u001b[43m[\u001b[49m\u001b[33;43m'\u001b[39;49m\u001b[33;43mTid\u001b[39;49m\u001b[33;43m'\u001b[39;49m\u001b[43m]\u001b[49m\u001b[43m.\u001b[49m\u001b[43mapply\u001b[49m\u001b[43m(\u001b[49m\u001b[43mseason\u001b[49m\u001b[43m)\u001b[49m\n\u001b[32m     31\u001b[39m \u001b[38;5;28mprint\u001b[39m(\u001b[33mf\u001b[39m\u001b[33m\"\u001b[39m\u001b[33mThe average for each season is:\u001b[39m\u001b[38;5;130;01m\\n\u001b[39;00m\u001b[38;5;132;01m{\u001b[39;00mdf.groupby(\u001b[33m'\u001b[39m\u001b[33mseason\u001b[39m\u001b[33m'\u001b[39m).mean(numeric_only=\u001b[38;5;28;01mTrue\u001b[39;00m)\u001b[38;5;132;01m}\u001b[39;00m\u001b[33m\"\u001b[39m)\n\u001b[32m     32\u001b[39m \u001b[38;5;28mprint\u001b[39m(\u001b[33mf\u001b[39m\u001b[33m\"\u001b[39m\u001b[33mThe median for each season is:\u001b[39m\u001b[38;5;130;01m\\n\u001b[39;00m\u001b[38;5;132;01m{\u001b[39;00mdf.groupby(\u001b[33m'\u001b[39m\u001b[33mseason\u001b[39m\u001b[33m'\u001b[39m).median(numeric_only=\u001b[38;5;28;01mTrue\u001b[39;00m)\u001b[38;5;132;01m}\u001b[39;00m\u001b[33m\"\u001b[39m)\n",
      "\u001b[36mFile \u001b[39m\u001b[32mc:\\Users\\livem\\OneDrive - NTNU\\Dokumenter\\Andvendt programmering\\Miljo_dataanalyse_applikasjon\\venv\\Lib\\site-packages\\pandas\\core\\series.py:4924\u001b[39m, in \u001b[36mSeries.apply\u001b[39m\u001b[34m(self, func, convert_dtype, args, by_row, **kwargs)\u001b[39m\n\u001b[32m   4789\u001b[39m \u001b[38;5;28;01mdef\u001b[39;00m\u001b[38;5;250m \u001b[39m\u001b[34mapply\u001b[39m(\n\u001b[32m   4790\u001b[39m     \u001b[38;5;28mself\u001b[39m,\n\u001b[32m   4791\u001b[39m     func: AggFuncType,\n\u001b[32m   (...)\u001b[39m\u001b[32m   4796\u001b[39m     **kwargs,\n\u001b[32m   4797\u001b[39m ) -> DataFrame | Series:\n\u001b[32m   4798\u001b[39m \u001b[38;5;250m    \u001b[39m\u001b[33;03m\"\"\"\u001b[39;00m\n\u001b[32m   4799\u001b[39m \u001b[33;03m    Invoke function on values of Series.\u001b[39;00m\n\u001b[32m   4800\u001b[39m \n\u001b[32m   (...)\u001b[39m\u001b[32m   4915\u001b[39m \u001b[33;03m    dtype: float64\u001b[39;00m\n\u001b[32m   4916\u001b[39m \u001b[33;03m    \"\"\"\u001b[39;00m\n\u001b[32m   4917\u001b[39m     \u001b[38;5;28;01mreturn\u001b[39;00m \u001b[43mSeriesApply\u001b[49m\u001b[43m(\u001b[49m\n\u001b[32m   4918\u001b[39m \u001b[43m        \u001b[49m\u001b[38;5;28;43mself\u001b[39;49m\u001b[43m,\u001b[49m\n\u001b[32m   4919\u001b[39m \u001b[43m        \u001b[49m\u001b[43mfunc\u001b[49m\u001b[43m,\u001b[49m\n\u001b[32m   4920\u001b[39m \u001b[43m        \u001b[49m\u001b[43mconvert_dtype\u001b[49m\u001b[43m=\u001b[49m\u001b[43mconvert_dtype\u001b[49m\u001b[43m,\u001b[49m\n\u001b[32m   4921\u001b[39m \u001b[43m        \u001b[49m\u001b[43mby_row\u001b[49m\u001b[43m=\u001b[49m\u001b[43mby_row\u001b[49m\u001b[43m,\u001b[49m\n\u001b[32m   4922\u001b[39m \u001b[43m        \u001b[49m\u001b[43margs\u001b[49m\u001b[43m=\u001b[49m\u001b[43margs\u001b[49m\u001b[43m,\u001b[49m\n\u001b[32m   4923\u001b[39m \u001b[43m        \u001b[49m\u001b[43mkwargs\u001b[49m\u001b[43m=\u001b[49m\u001b[43mkwargs\u001b[49m\u001b[43m,\u001b[49m\n\u001b[32m-> \u001b[39m\u001b[32m4924\u001b[39m \u001b[43m    \u001b[49m\u001b[43m)\u001b[49m\u001b[43m.\u001b[49m\u001b[43mapply\u001b[49m\u001b[43m(\u001b[49m\u001b[43m)\u001b[49m\n",
      "\u001b[36mFile \u001b[39m\u001b[32mc:\\Users\\livem\\OneDrive - NTNU\\Dokumenter\\Andvendt programmering\\Miljo_dataanalyse_applikasjon\\venv\\Lib\\site-packages\\pandas\\core\\apply.py:1427\u001b[39m, in \u001b[36mSeriesApply.apply\u001b[39m\u001b[34m(self)\u001b[39m\n\u001b[32m   1424\u001b[39m     \u001b[38;5;28;01mreturn\u001b[39;00m \u001b[38;5;28mself\u001b[39m.apply_compat()\n\u001b[32m   1426\u001b[39m \u001b[38;5;66;03m# self.func is Callable\u001b[39;00m\n\u001b[32m-> \u001b[39m\u001b[32m1427\u001b[39m \u001b[38;5;28;01mreturn\u001b[39;00m \u001b[38;5;28;43mself\u001b[39;49m\u001b[43m.\u001b[49m\u001b[43mapply_standard\u001b[49m\u001b[43m(\u001b[49m\u001b[43m)\u001b[49m\n",
      "\u001b[36mFile \u001b[39m\u001b[32mc:\\Users\\livem\\OneDrive - NTNU\\Dokumenter\\Andvendt programmering\\Miljo_dataanalyse_applikasjon\\venv\\Lib\\site-packages\\pandas\\core\\apply.py:1507\u001b[39m, in \u001b[36mSeriesApply.apply_standard\u001b[39m\u001b[34m(self)\u001b[39m\n\u001b[32m   1501\u001b[39m \u001b[38;5;66;03m# row-wise access\u001b[39;00m\n\u001b[32m   1502\u001b[39m \u001b[38;5;66;03m# apply doesn't have a `na_action` keyword and for backward compat reasons\u001b[39;00m\n\u001b[32m   1503\u001b[39m \u001b[38;5;66;03m# we need to give `na_action=\"ignore\"` for categorical data.\u001b[39;00m\n\u001b[32m   1504\u001b[39m \u001b[38;5;66;03m# TODO: remove the `na_action=\"ignore\"` when that default has been changed in\u001b[39;00m\n\u001b[32m   1505\u001b[39m \u001b[38;5;66;03m#  Categorical (GH51645).\u001b[39;00m\n\u001b[32m   1506\u001b[39m action = \u001b[33m\"\u001b[39m\u001b[33mignore\u001b[39m\u001b[33m\"\u001b[39m \u001b[38;5;28;01mif\u001b[39;00m \u001b[38;5;28misinstance\u001b[39m(obj.dtype, CategoricalDtype) \u001b[38;5;28;01melse\u001b[39;00m \u001b[38;5;28;01mNone\u001b[39;00m\n\u001b[32m-> \u001b[39m\u001b[32m1507\u001b[39m mapped = \u001b[43mobj\u001b[49m\u001b[43m.\u001b[49m\u001b[43m_map_values\u001b[49m\u001b[43m(\u001b[49m\n\u001b[32m   1508\u001b[39m \u001b[43m    \u001b[49m\u001b[43mmapper\u001b[49m\u001b[43m=\u001b[49m\u001b[43mcurried\u001b[49m\u001b[43m,\u001b[49m\u001b[43m \u001b[49m\u001b[43mna_action\u001b[49m\u001b[43m=\u001b[49m\u001b[43maction\u001b[49m\u001b[43m,\u001b[49m\u001b[43m \u001b[49m\u001b[43mconvert\u001b[49m\u001b[43m=\u001b[49m\u001b[38;5;28;43mself\u001b[39;49m\u001b[43m.\u001b[49m\u001b[43mconvert_dtype\u001b[49m\n\u001b[32m   1509\u001b[39m \u001b[43m\u001b[49m\u001b[43m)\u001b[49m\n\u001b[32m   1511\u001b[39m \u001b[38;5;28;01mif\u001b[39;00m \u001b[38;5;28mlen\u001b[39m(mapped) \u001b[38;5;129;01mand\u001b[39;00m \u001b[38;5;28misinstance\u001b[39m(mapped[\u001b[32m0\u001b[39m], ABCSeries):\n\u001b[32m   1512\u001b[39m     \u001b[38;5;66;03m# GH#43986 Need to do list(mapped) in order to get treated as nested\u001b[39;00m\n\u001b[32m   1513\u001b[39m     \u001b[38;5;66;03m#  See also GH#25959 regarding EA support\u001b[39;00m\n\u001b[32m   1514\u001b[39m     \u001b[38;5;28;01mreturn\u001b[39;00m obj._constructor_expanddim(\u001b[38;5;28mlist\u001b[39m(mapped), index=obj.index)\n",
      "\u001b[36mFile \u001b[39m\u001b[32mc:\\Users\\livem\\OneDrive - NTNU\\Dokumenter\\Andvendt programmering\\Miljo_dataanalyse_applikasjon\\venv\\Lib\\site-packages\\pandas\\core\\base.py:921\u001b[39m, in \u001b[36mIndexOpsMixin._map_values\u001b[39m\u001b[34m(self, mapper, na_action, convert)\u001b[39m\n\u001b[32m    918\u001b[39m \u001b[38;5;28;01mif\u001b[39;00m \u001b[38;5;28misinstance\u001b[39m(arr, ExtensionArray):\n\u001b[32m    919\u001b[39m     \u001b[38;5;28;01mreturn\u001b[39;00m arr.map(mapper, na_action=na_action)\n\u001b[32m--> \u001b[39m\u001b[32m921\u001b[39m \u001b[38;5;28;01mreturn\u001b[39;00m \u001b[43malgorithms\u001b[49m\u001b[43m.\u001b[49m\u001b[43mmap_array\u001b[49m\u001b[43m(\u001b[49m\u001b[43marr\u001b[49m\u001b[43m,\u001b[49m\u001b[43m \u001b[49m\u001b[43mmapper\u001b[49m\u001b[43m,\u001b[49m\u001b[43m \u001b[49m\u001b[43mna_action\u001b[49m\u001b[43m=\u001b[49m\u001b[43mna_action\u001b[49m\u001b[43m,\u001b[49m\u001b[43m \u001b[49m\u001b[43mconvert\u001b[49m\u001b[43m=\u001b[49m\u001b[43mconvert\u001b[49m\u001b[43m)\u001b[49m\n",
      "\u001b[36mFile \u001b[39m\u001b[32mc:\\Users\\livem\\OneDrive - NTNU\\Dokumenter\\Andvendt programmering\\Miljo_dataanalyse_applikasjon\\venv\\Lib\\site-packages\\pandas\\core\\algorithms.py:1743\u001b[39m, in \u001b[36mmap_array\u001b[39m\u001b[34m(arr, mapper, na_action, convert)\u001b[39m\n\u001b[32m   1741\u001b[39m values = arr.astype(\u001b[38;5;28mobject\u001b[39m, copy=\u001b[38;5;28;01mFalse\u001b[39;00m)\n\u001b[32m   1742\u001b[39m \u001b[38;5;28;01mif\u001b[39;00m na_action \u001b[38;5;129;01mis\u001b[39;00m \u001b[38;5;28;01mNone\u001b[39;00m:\n\u001b[32m-> \u001b[39m\u001b[32m1743\u001b[39m     \u001b[38;5;28;01mreturn\u001b[39;00m \u001b[43mlib\u001b[49m\u001b[43m.\u001b[49m\u001b[43mmap_infer\u001b[49m\u001b[43m(\u001b[49m\u001b[43mvalues\u001b[49m\u001b[43m,\u001b[49m\u001b[43m \u001b[49m\u001b[43mmapper\u001b[49m\u001b[43m,\u001b[49m\u001b[43m \u001b[49m\u001b[43mconvert\u001b[49m\u001b[43m=\u001b[49m\u001b[43mconvert\u001b[49m\u001b[43m)\u001b[49m\n\u001b[32m   1744\u001b[39m \u001b[38;5;28;01melse\u001b[39;00m:\n\u001b[32m   1745\u001b[39m     \u001b[38;5;28;01mreturn\u001b[39;00m lib.map_infer_mask(\n\u001b[32m   1746\u001b[39m         values, mapper, mask=isna(values).view(np.uint8), convert=convert\n\u001b[32m   1747\u001b[39m     )\n",
      "\u001b[36mFile \u001b[39m\u001b[32mlib.pyx:2972\u001b[39m, in \u001b[36mpandas._libs.lib.map_infer\u001b[39m\u001b[34m()\u001b[39m\n",
      "\u001b[36mCell\u001b[39m\u001b[36m \u001b[39m\u001b[32mIn[9]\u001b[39m\u001b[32m, line 20\u001b[39m, in \u001b[36mseason\u001b[39m\u001b[34m(dato)\u001b[39m\n\u001b[32m     19\u001b[39m \u001b[38;5;28;01mdef\u001b[39;00m\u001b[38;5;250m \u001b[39m\u001b[34mseason\u001b[39m(dato):\n\u001b[32m---> \u001b[39m\u001b[32m20\u001b[39m     month=\u001b[43mdato\u001b[49m\u001b[43m.\u001b[49m\u001b[43mmonth\u001b[49m\n\u001b[32m     21\u001b[39m     \u001b[38;5;28;01mif\u001b[39;00m month \u001b[38;5;129;01min\u001b[39;00m [\u001b[32m12\u001b[39m,\u001b[32m1\u001b[39m,\u001b[32m2\u001b[39m]:\n\u001b[32m     22\u001b[39m         \u001b[38;5;28;01mreturn\u001b[39;00m \u001b[33m\"\u001b[39m\u001b[33mWinter\u001b[39m\u001b[33m\"\u001b[39m\n",
      "\u001b[31mAttributeError\u001b[39m: 'str' object has no attribute 'month'"
     ]
    }
   ],
   "source": [
    "import pandas as pd\n",
    "import numpy as np\n",
    "import os\n",
    "import sys \n",
    "\n",
    "sys.path.insert(0, os.path.abspath(os.path.join(os.getcwd(), '../src')))\n",
    "\n",
    "original_file = \"blindern_data_cleaning.csv\"\n",
    "data_path = os.path.join(os.getcwd(),\"..\", \"data\")\n",
    "original_path = os.path.join(data_path, original_file)  \n",
    "df = pd.read_csv(original_path, delimiter=\";\")\n",
    "\n",
    "# calculate the average, median and standard deviation for each column\n",
    "print(f\"The average for each column is:\\n{df.mean(numeric_only=True)}\")\n",
    "print(f\"The median for each column is:\\n{df.median(numeric_only=True)}\")\n",
    "print(f\"The standard deviation for each column is:\\n{df.std(numeric_only=True)}\")\n",
    "\n",
    "# calculate the seasonal average, median and standard deviation for each column\n",
    "def season(dato):\n",
    "    month=dato.month\n",
    "    if month in [12,1,2]:\n",
    "        return \"Winter\"\n",
    "    elif month in [3,4,5]:\n",
    "        return \"Spring\"\n",
    "    elif month in [6,7,8]:\n",
    "        return \"Summer\"\n",
    "    elif month in [9,10,11]:\n",
    "        return \"Autumn\"\n",
    "\n",
    "df['season'] = df['Tid'].apply(season)\n",
    "print(f\"The average for each season is:\\n{df.groupby('season').mean(numeric_only=True)}\")\n",
    "print(f\"The median for each season is:\\n{df.groupby('season').median(numeric_only=True)}\")\n",
    "print(f\"The standard deviation for each season is:\\n{df.groupby('season').std(numeric_only=True)}\")\n",
    "\n",
    "\n"
   ]
  },
  {
   "cell_type": "code",
   "execution_count": null,
   "metadata": {},
   "outputs": [],
   "source": []
  },
  {
   "cell_type": "code",
   "execution_count": null,
   "metadata": {},
   "outputs": [
    {
     "name": "stdout",
     "output_type": "stream",
     "text": [
      "Antall dager med snø etter en annen: [10, 295, 23, 263, 9, 13, 232, 54, 24, 34, 203, 5, 12, 197, 37, 225, 16, 16, 32, 22, 257, 12, 21, 16, 252, 240, 17, 201, 26, 14, 247]\n",
      "Typetall for antall dager med snø sammenhengende: 16\n",
      "Minste antall dager er 5\n",
      "Dager med snø, datoer: ['2014-01-01 --- 2014-01-10', '2014-02-26 --- 2014-12-17', '2015-03-03 --- 2015-03-25', '2015-03-29 --- 2015-12-16', '2015-12-19 --- 2015-12-27', '2016-02-08 --- 2016-02-20', '2016-03-18 --- 2016-11-04', '2016-11-14 --- 2017-01-06', '2017-01-10 --- 2017-02-02', '2017-03-21 --- 2017-04-23', '2017-04-26 --- 2017-11-14', '2017-11-17 --- 2017-11-21', '2017-11-24 --- 2017-12-05', '2018-04-16 --- 2018-10-29', '2018-10-31 --- 2018-12-06', '2019-03-29 --- 2019-11-08', '2019-11-13 --- 2019-11-28', '2019-12-13 --- 2019-12-28', '2019-12-30 --- 2020-01-30', '2020-02-08 --- 2020-02-29', '2020-03-09 --- 2020-11-20', '2020-11-22 --- 2020-12-03', '2020-12-05 --- 2020-12-25', '2021-02-23 --- 2021-03-10', '2021-03-23 --- 2021-11-29', '2022-03-28 --- 2022-11-22', '2022-11-24 --- 2022-12-10', '2023-04-13 --- 2023-10-30', '2023-11-03 --- 2023-11-28', '2024-03-22 --- 2024-04-04', '2024-04-07 --- 2024-12-09']\n",
      "Antall dager med snø etter en annen: [17, 12, 16, 15, 12, 14, 20, 12, 17, 13, 12, 13, 21, 15]\n",
      "Typetall for antall dager uten nedbør sammenhengende: 12\n",
      "Minste antall dager er 12\n",
      "No rain dates: ['2014-04-19 --- 2014-05-05', '2015-08-13 --- 2015-08-24', '2015-09-26 --- 2015-10-11', '2016-05-05 --- 2016-05-19', '2018-05-30 --- 2018-06-10', '2018-06-23 --- 2018-07-06', '2019-04-05 --- 2019-04-24', '2019-10-28 --- 2019-11-08', '2020-03-17 --- 2020-04-02', '2022-04-15 --- 2022-04-27', '2023-02-25 --- 2023-03-08', '2023-05-03 --- 2023-05-15', '2023-05-29 --- 2023-06-18', '2024-05-11 --- 2024-05-25']\n"
     ]
    }
   ],
   "source": [
    "from statistics import mode\n",
    "#DATES IS FUCKED, DONT COMMIT YET\n",
    "#List of days with snow back to back, only those over X ammount of days.\n",
    "def snowdays(grense=5):\n",
    "\tcount=0\n",
    "\tsnowdays=[]\n",
    "\tsnowdays_dates=[]\n",
    "\tsnow_period=()\n",
    "\tfor i in range(len(df)-1):\n",
    "\t\tif df[\"Snø\"][i] > 0:\n",
    "\t\t\tcount += 1\n",
    "\t\telse:\n",
    "\t\t\tif count >= grense:                  #X ammont of days\n",
    "\t\t\t\tsnowdays.append(count)\n",
    "\t\t\t\tend_date=pd.to_datetime(df[\"Tid\"][i-1]).date()\n",
    "\t\t\t\tstart_date=end_date-pd.Timedelta(days=count-1)\n",
    "\t\t\t\tsnow_period=f\"{start_date} --- {end_date}\"\n",
    "\t\t\t\tsnowdays_dates.append(snow_period)\n",
    "\t\t\tcount=0\n",
    "\tprint(f\"Antall dager med snø etter en annen: {snowdays}\")\n",
    "\tprint(f\"Typetall for antall dager med snø sammenhengende: {mode(snowdays)}\\nMinste antall dager er {grense}\")\n",
    "\tprint(f\"Dager med snø, datoer: {snowdays_dates}\")\n",
    "\n",
    "\t\n",
    "#List of days without rain back to back, only those over X ammount of days.\n",
    "def drydays(grense=12):\n",
    "\tcount=0\n",
    "\tno_rain_days=[]\n",
    "\tno_rain_dates=[]\n",
    "\tdry_period=()\n",
    "\tfor i in range(len(df)-1):\n",
    "\t\tif df[\"Nedbør\"][i] <= 0:\n",
    "\t\t\tcount += 1\n",
    "\t\telse:\n",
    "\t\t\tif count >=grense:                             #X ammont of days\n",
    "\t\t\t\tno_rain_days.append(count)\n",
    "\t\t\t\tend_date=pd.to_datetime(df[\"Tid\"][i-1]).date()\n",
    "\t\t\t\tstart_date=end_date-pd.Timedelta(days=count-1)\n",
    "\t\t\t\tdry_period=f\"{start_date} --- {end_date}\"\n",
    "\t\t\t\tno_rain_dates.append(dry_period)\n",
    "\t\t\tcount=0\n",
    "\tprint(f\"Antall dager med snø etter en annen: {no_rain_days}\")\n",
    "\tprint(f\"Typetall for antall dager uten nedbør sammenhengende: {mode(no_rain_days)}\\nMinste antall dager er {grense}\")\n",
    "\tprint (f\"No rain dates: {no_rain_dates}\")\n",
    "\n",
    "snowdays(5)\n",
    "drydays()\n"
   ]
  }
 ],
 "metadata": {
  "kernelspec": {
   "display_name": "venv",
   "language": "python",
   "name": "python3"
  },
  "language_info": {
   "codemirror_mode": {
    "name": "ipython",
    "version": 3
   },
   "file_extension": ".py",
   "mimetype": "text/x-python",
   "name": "python",
   "nbconvert_exporter": "python",
   "pygments_lexer": "ipython3",
   "version": "3.12.9"
  }
 },
 "nbformat": 4,
 "nbformat_minor": 2
}
