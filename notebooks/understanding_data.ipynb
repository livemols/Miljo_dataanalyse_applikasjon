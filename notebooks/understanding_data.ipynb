{
 "cells": [
  {
   "cell_type": "markdown",
   "metadata": {},
   "source": [
    "# Understanding data\n",
    "\n",
    "Hensikt å forstå innhenta rådata"
   ]
  },
  {
   "cell_type": "code",
   "execution_count": 19,
   "metadata": {},
   "outputs": [
    {
     "data": {
      "text/html": [
       "<div>\n",
       "<style scoped>\n",
       "    .dataframe tbody tr th:only-of-type {\n",
       "        vertical-align: middle;\n",
       "    }\n",
       "\n",
       "    .dataframe tbody tr th {\n",
       "        vertical-align: top;\n",
       "    }\n",
       "\n",
       "    .dataframe thead th {\n",
       "        text-align: right;\n",
       "    }\n",
       "</style>\n",
       "<table border=\"1\" class=\"dataframe\">\n",
       "  <thead>\n",
       "    <tr style=\"text-align: right;\">\n",
       "      <th></th>\n",
       "      <th>Navn;Stasjon;Tid(norsk normaltid);Maksimumstemperatur (døgn);Minimumstemperatur (døgn);Nedbør (døgn);Høyeste middelvind (døgn);Snødybde</th>\n",
       "    </tr>\n",
       "  </thead>\n",
       "  <tbody>\n",
       "    <tr>\n",
       "      <th>0</th>\n",
       "      <td>Oslo - Blindern;SN18700;01.01.2015;4.1;-2.4;0;...</td>\n",
       "    </tr>\n",
       "    <tr>\n",
       "      <th>1</th>\n",
       "      <td>Oslo - Blindern;SN18700;02.01.2015;6.5;2.9;0.7...</td>\n",
       "    </tr>\n",
       "    <tr>\n",
       "      <th>2</th>\n",
       "      <td>Oslo - Blindern;SN18700;03.01.2015;4.5;-0.2;0;7;1</td>\n",
       "    </tr>\n",
       "    <tr>\n",
       "      <th>3</th>\n",
       "      <td>Oslo - Blindern;SN18700;04.01.2015;2.7;-2.7;0;...</td>\n",
       "    </tr>\n",
       "    <tr>\n",
       "      <th>4</th>\n",
       "      <td>Oslo - Blindern;SN18700;05.01.2015;0.3;-4.4;0;...</td>\n",
       "    </tr>\n",
       "  </tbody>\n",
       "</table>\n",
       "</div>"
      ],
      "text/plain": [
       "  Navn;Stasjon;Tid(norsk normaltid);Maksimumstemperatur (døgn);Minimumstemperatur (døgn);Nedbør (døgn);Høyeste middelvind (døgn);Snødybde\n",
       "0  Oslo - Blindern;SN18700;01.01.2015;4.1;-2.4;0;...                                                                                     \n",
       "1  Oslo - Blindern;SN18700;02.01.2015;6.5;2.9;0.7...                                                                                     \n",
       "2  Oslo - Blindern;SN18700;03.01.2015;4.5;-0.2;0;7;1                                                                                     \n",
       "3  Oslo - Blindern;SN18700;04.01.2015;2.7;-2.7;0;...                                                                                     \n",
       "4  Oslo - Blindern;SN18700;05.01.2015;0.3;-4.4;0;...                                                                                     "
      ]
     },
     "execution_count": 19,
     "metadata": {},
     "output_type": "execute_result"
    }
   ],
   "source": [
    "# Loading the Dataset\n",
    "\n",
    "import pandas as pd\n",
    "\n",
    "file_name = \"../data/blindern.csv\" \n",
    "try:\n",
    "    data = pd.read_csv(file_name)\n",
    "except FileNotFoundError:\n",
    "    print(file_name, \"does not exist\")\n",
    "\n",
    "data.head()"
   ]
  },
  {
   "cell_type": "code",
   "execution_count": 4,
   "metadata": {},
   "outputs": [
    {
     "name": "stdout",
     "output_type": "stream",
     "text": [
      "type: <class 'pandas.core.frame.DataFrame'>\n",
      "shape: (3654, 1)\n",
      "\n",
      "<class 'pandas.core.frame.DataFrame'>\n",
      "RangeIndex: 3654 entries, 0 to 3653\n",
      "Data columns (total 1 columns):\n",
      " #   Column                                                                                                                                   Non-Null Count  Dtype \n",
      "---  ------                                                                                                                                   --------------  ----- \n",
      " 0   Navn;Stasjon;Tid(norsk normaltid);Maksimumstemperatur (døgn);Minimumstemperatur (døgn);Nedbør (døgn);Høyeste middelvind (døgn);Snødybde  3654 non-null   object\n",
      "dtypes: object(1)\n",
      "memory usage: 28.7+ KB\n"
     ]
    }
   ],
   "source": [
    "# Understanding the Dataset\n",
    "\n",
    "print('type:', type(data))\n",
    "print('shape:', data.shape)\n",
    "print(\"\")\n",
    "data.info()"
   ]
  },
  {
   "cell_type": "code",
   "execution_count": 5,
   "metadata": {},
   "outputs": [
    {
     "data": {
      "text/html": [
       "<div>\n",
       "<style scoped>\n",
       "    .dataframe tbody tr th:only-of-type {\n",
       "        vertical-align: middle;\n",
       "    }\n",
       "\n",
       "    .dataframe tbody tr th {\n",
       "        vertical-align: top;\n",
       "    }\n",
       "\n",
       "    .dataframe thead th {\n",
       "        text-align: right;\n",
       "    }\n",
       "</style>\n",
       "<table border=\"1\" class=\"dataframe\">\n",
       "  <thead>\n",
       "    <tr style=\"text-align: right;\">\n",
       "      <th></th>\n",
       "      <th>Navn;Stasjon;Tid(norsk normaltid);Maksimumstemperatur (døgn);Minimumstemperatur (døgn);Nedbør (døgn);Høyeste middelvind (døgn);Snødybde</th>\n",
       "    </tr>\n",
       "  </thead>\n",
       "  <tbody>\n",
       "    <tr>\n",
       "      <th>3649</th>\n",
       "      <td>Oslo - Blindern;SN18700;28.12.2024;3.2;1.5;4.1...</td>\n",
       "    </tr>\n",
       "    <tr>\n",
       "      <th>3650</th>\n",
       "      <td>Oslo - Blindern;SN18700;29.12.2024;4.6;1.7;0.2...</td>\n",
       "    </tr>\n",
       "    <tr>\n",
       "      <th>3651</th>\n",
       "      <td>Oslo - Blindern;SN18700;30.12.2024;5.5;-1.6;0;...</td>\n",
       "    </tr>\n",
       "    <tr>\n",
       "      <th>3652</th>\n",
       "      <td>Oslo - Blindern;SN18700;31.12.2024;-0.2;-3.8;0...</td>\n",
       "    </tr>\n",
       "    <tr>\n",
       "      <th>3653</th>\n",
       "      <td>Data er gyldig per 04.03.2025 (CC BY 4.0). Met...</td>\n",
       "    </tr>\n",
       "  </tbody>\n",
       "</table>\n",
       "</div>"
      ],
      "text/plain": [
       "     Navn;Stasjon;Tid(norsk normaltid);Maksimumstemperatur (døgn);Minimumstemperatur (døgn);Nedbør (døgn);Høyeste middelvind (døgn);Snødybde\n",
       "3649  Oslo - Blindern;SN18700;28.12.2024;3.2;1.5;4.1...                                                                                     \n",
       "3650  Oslo - Blindern;SN18700;29.12.2024;4.6;1.7;0.2...                                                                                     \n",
       "3651  Oslo - Blindern;SN18700;30.12.2024;5.5;-1.6;0;...                                                                                     \n",
       "3652  Oslo - Blindern;SN18700;31.12.2024;-0.2;-3.8;0...                                                                                     \n",
       "3653  Data er gyldig per 04.03.2025 (CC BY 4.0). Met...                                                                                     "
      ]
     },
     "execution_count": 5,
     "metadata": {},
     "output_type": "execute_result"
    }
   ],
   "source": [
    "data.tail()"
   ]
  },
  {
   "cell_type": "markdown",
   "metadata": {},
   "source": [
    "Ettersom vi tidligere så at det kun var en kolonne så vil det være naturlig å endre dette til videre analyse av data, for å få mer ut av evaluering til \"data cleaning\""
   ]
  },
  {
   "cell_type": "code",
   "execution_count": 20,
   "metadata": {},
   "outputs": [
    {
     "data": {
      "text/html": [
       "<div>\n",
       "<style scoped>\n",
       "    .dataframe tbody tr th:only-of-type {\n",
       "        vertical-align: middle;\n",
       "    }\n",
       "\n",
       "    .dataframe tbody tr th {\n",
       "        vertical-align: top;\n",
       "    }\n",
       "\n",
       "    .dataframe thead th {\n",
       "        text-align: right;\n",
       "    }\n",
       "</style>\n",
       "<table border=\"1\" class=\"dataframe\">\n",
       "  <thead>\n",
       "    <tr style=\"text-align: right;\">\n",
       "      <th></th>\n",
       "      <th>Tid</th>\n",
       "      <th>Makstemp</th>\n",
       "      <th>Mintemp</th>\n",
       "      <th>Nedbør</th>\n",
       "      <th>Vind</th>\n",
       "    </tr>\n",
       "  </thead>\n",
       "  <tbody>\n",
       "    <tr>\n",
       "      <th>count</th>\n",
       "      <td>3653</td>\n",
       "      <td>3653.000000</td>\n",
       "      <td>3653.000000</td>\n",
       "      <td>3653.000000</td>\n",
       "      <td>3653.000000</td>\n",
       "    </tr>\n",
       "    <tr>\n",
       "      <th>mean</th>\n",
       "      <td>2020-01-01 00:00:00</td>\n",
       "      <td>11.543882</td>\n",
       "      <td>4.062141</td>\n",
       "      <td>2.418368</td>\n",
       "      <td>5.678237</td>\n",
       "    </tr>\n",
       "    <tr>\n",
       "      <th>min</th>\n",
       "      <td>2015-01-01 00:00:00</td>\n",
       "      <td>-15.900000</td>\n",
       "      <td>-23.100000</td>\n",
       "      <td>0.000000</td>\n",
       "      <td>1.600000</td>\n",
       "    </tr>\n",
       "    <tr>\n",
       "      <th>25%</th>\n",
       "      <td>2017-07-02 00:00:00</td>\n",
       "      <td>4.200000</td>\n",
       "      <td>-1.100000</td>\n",
       "      <td>0.000000</td>\n",
       "      <td>4.400000</td>\n",
       "    </tr>\n",
       "    <tr>\n",
       "      <th>50%</th>\n",
       "      <td>2020-01-01 00:00:00</td>\n",
       "      <td>11.300000</td>\n",
       "      <td>3.500000</td>\n",
       "      <td>0.100000</td>\n",
       "      <td>5.500000</td>\n",
       "    </tr>\n",
       "    <tr>\n",
       "      <th>75%</th>\n",
       "      <td>2022-07-02 00:00:00</td>\n",
       "      <td>19.300000</td>\n",
       "      <td>10.400000</td>\n",
       "      <td>2.200000</td>\n",
       "      <td>6.800000</td>\n",
       "    </tr>\n",
       "    <tr>\n",
       "      <th>max</th>\n",
       "      <td>2024-12-31 00:00:00</td>\n",
       "      <td>34.600000</td>\n",
       "      <td>21.700000</td>\n",
       "      <td>57.200000</td>\n",
       "      <td>13.700000</td>\n",
       "    </tr>\n",
       "    <tr>\n",
       "      <th>std</th>\n",
       "      <td>NaN</td>\n",
       "      <td>9.003188</td>\n",
       "      <td>7.273776</td>\n",
       "      <td>5.356177</td>\n",
       "      <td>1.835857</td>\n",
       "    </tr>\n",
       "  </tbody>\n",
       "</table>\n",
       "</div>"
      ],
      "text/plain": [
       "                       Tid     Makstemp      Mintemp       Nedbør         Vind\n",
       "count                 3653  3653.000000  3653.000000  3653.000000  3653.000000\n",
       "mean   2020-01-01 00:00:00    11.543882     4.062141     2.418368     5.678237\n",
       "min    2015-01-01 00:00:00   -15.900000   -23.100000     0.000000     1.600000\n",
       "25%    2017-07-02 00:00:00     4.200000    -1.100000     0.000000     4.400000\n",
       "50%    2020-01-01 00:00:00    11.300000     3.500000     0.100000     5.500000\n",
       "75%    2022-07-02 00:00:00    19.300000    10.400000     2.200000     6.800000\n",
       "max    2024-12-31 00:00:00    34.600000    21.700000    57.200000    13.700000\n",
       "std                    NaN     9.003188     7.273776     5.356177     1.835857"
      ]
     },
     "execution_count": 20,
     "metadata": {},
     "output_type": "execute_result"
    }
   ],
   "source": [
    "df = pd.read_csv(file_name,skipfooter=1, engine='python',delimiter=\";\")\n",
    "\n",
    "# Endrer navn på kolonnene for bedre oversikt og gjorde om dato til datetime format\n",
    "df.columns = [\"Navn\", \"Stasjon\", \"Tid\", \"Makstemp\", \"Mintemp\", \"Nedbør\", \"Vind\", \"Snø\"]\n",
    "df[\"Tid\"] = pd.to_datetime(df[\"Tid\"], format=\"%d.%m.%Y\")\n",
    "\n",
    "# OBS! SE OM DET TRENGS Å ENDRE NOE MED TID HVIS KODEN ALLEREDE VAR FEIL\n",
    "\n",
    "df.describe()"
   ]
  }
 ],
 "metadata": {
  "kernelspec": {
   "display_name": "venv",
   "language": "python",
   "name": "python3"
  },
  "language_info": {
   "codemirror_mode": {
    "name": "ipython",
    "version": 3
   },
   "file_extension": ".py",
   "mimetype": "text/x-python",
   "name": "python",
   "nbconvert_exporter": "python",
   "pygments_lexer": "ipython3",
   "version": "3.13.1"
  }
 },
 "nbformat": 4,
 "nbformat_minor": 2
}
