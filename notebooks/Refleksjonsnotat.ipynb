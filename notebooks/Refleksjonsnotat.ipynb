{
 "cells": [
  {
   "cell_type": "markdown",
   "metadata": {},
   "source": [
    "# Refleksjonsnotat\n",
    "\n",
    "Skriv et refleksjonsnotat (maks 800 ord) etter gjennomføringen av prosjektet. Denne skal inneholde viktige punkter som gir innsikt i deres læringsprosess, erfaringer og vurderinger av prosjektet.\n",
    "\n",
    "Vurderingskriterier:\n",
    "\n",
    "- Refleksjoner over hva du har lært om datainnsamling, databehandling, dataanalyse og visualisering.\n",
    "\n",
    "- Beskrivelse av nye ferdigheter som ble tilegnet, for eksempel bruk av spesifikke biblioteker (Pandas, NumPy, Matplotlib, etc.) og programmeringskonsepter.\n",
    "\n",
    "- Identifisering av spesifikke utfordringer som oppstod under prosjektet, for eksempel problemer med datakvalitet, håndtering av manglende verdier, eller tekniske problemer med API-er.\n",
    "\n",
    "- Refleksjoner over samarbeidet i gruppen, inkludert hvordan oppgaver ble fordelt og hvordan kommunikasjonen fungerte.\n",
    "\n",
    "- Vurdering av de endelige resultatene, inkludert kvaliteten på visualiseringene og analysene.\n",
    "\n",
    "- Ideer til hvordan prosjektet kan forbedres i fremtiden, både i forhold til tekniske aspekter og prosjektledelse.\n",
    "\n",
    "- Mulige retninger for videre forskning eller utvikling basert på erfaringene fra prosjektet.\n",
    "\n",
    "- Oppsummering av de viktigste læringspunktene og hvordan prosjektet har bidratt til studentenes forståelse av datavitenskap og miljøstudier.\n",
    "\n",
    "- Personlige tanker om hvordan erfaringene fra prosjektet kan anvendes i fremtidige studier eller yrkesliv."
   ]
  },
  {
   "cell_type": "markdown",
   "metadata": {},
   "source": [
    "PS: Alt skal i en og samme tekst, men skiller delene for å få oversikt over perioden\n",
    "\n",
    "## Del 1\n",
    "\n",
    "- Dataframes\n",
    "\n",
    "- Pandas og Pandas SQL\n",
    "\n",
    "- \"Rene data\" ble et problem, rett og slett overflødig å gå igjennom en del behandling av ekstreme verdier, men for å vise til hvordan det systematisk skal gjøres har vi likvel gjort det da vi aldri kan være helt sike. I tillegg er det gjort samme prosess på et datasett som opprinelig er orginaen men er blitt manpiluert for å tydeligere frem hva vi har ønkset å få til med kdoen.\n",
    "\n",
    "- Valgte verdier som ikke tok med de mest ekstreme\n",
    "\n",
    "## Del 2\n",
    "\n",
    "Skriv erfaring her ..."
   ]
  },
  {
   "cell_type": "markdown",
   "metadata": {},
   "source": []
  }
 ],
 "metadata": {
  "language_info": {
   "name": "python"
  }
 },
 "nbformat": 4,
 "nbformat_minor": 2
}
